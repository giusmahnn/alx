{
 "cells": [
  {
   "cell_type": "markdown",
   "id": "bf17eebd",
   "metadata": {},
   "source": [
    "<div align=\"right\" style=\" font-size: 80%; text-align: center; margin: 0 auto\">\n",
    "<img src=\"https://raw.githubusercontent.com/Explore-AI/Pictures/master/ExploreAI_logos/Logo blue_dark.png\"  style=\"width:25px\" align=\"right\";/>\n",
    "</div>"
   ]
  },
  {
   "cell_type": "markdown",
   "id": "f662d169",
   "metadata": {},
   "source": [
    "# SQL Exam\n",
    "© ExploreAI Academy"
   ]
  },
  {
   "cell_type": "markdown",
   "id": "26af890c",
   "metadata": {},
   "source": [
    "## Instructions to students\n",
    "\n",
    "This challenge is designed to determine how much you have learned so far and will test your knowledge on SQL.\n",
    "\n",
    "The answers for this challenge should be selected on Athena for each corresponding multiple-choice question. The questions are included in this notebook and are numbered according to the Athena questions. The options for each question have also been included.\n",
    "\n",
    "Do not add or remove cells in this notebook. Do not edit or remove the `%%sql` comment as it is required to run each cell.\n",
    "\n",
    "**_Good luck!_**"
   ]
  },
  {
   "cell_type": "markdown",
   "id": "092d3f5e",
   "metadata": {},
   "source": [
    "## Honour code\n",
    "\n",
    "I, Remigius Mgbeme, confirm – by submitting this document – that the solutions in this notebook are a result of my own work and that I abide by the EDSA honour code (https://drive.google.com/file/d/1QDCjGZJ8-FmJE3bZdIQNwnJyQKPhHZBn/view?usp=sharing).\n",
    "\n",
    "Non-compliance with the honour code constitutes a material breach of contract."
   ]
  },
  {
   "cell_type": "markdown",
   "id": "b6bdd20c",
   "metadata": {},
   "source": [
    "## The TMDb database\n",
    "\n",
    "In this supplementary exam, you will be exploring [The Movie Database](https://www.themoviedb.org/) – an online movie and TV show database that houses some of the most popular movies and TV shows at your fingertips. The TMDb database supports 39 official languages used in over 180 countries daily and dates back all the way to 2008. \n",
    "\n",
    "\n",
    "<img src=\"https://github.com/Explore-AI/Pictures/blob/master/sql_tmdb.jpg?raw=true\" width=20%/>\n",
    "\n",
    "\n",
    "Below is an Entity Relationship Diagram (ERD) of the TMDb database:\n",
    "\n",
    "<img src=\"https://github.com/Explore-AI/Pictures/blob/master/TMDB_ER_diagram.png?raw=true\" width=2000%/>\n",
    "\n",
    "As can be seen from the ERD, the TMDb database consists of `12 tables` containing information about movies, cast, genre, and so much more.  \n",
    "\n",
    "Let's get started!"
   ]
  },
  {
   "cell_type": "markdown",
   "id": "5a0b7683",
   "metadata": {
    "tags": []
   },
   "source": [
    "## Loading the database\n",
    "\n",
    "Before you begin, you need to prepare your SQL environment.  You can do this by loading the magic command `%load_ext sql`."
   ]
  },
  {
   "cell_type": "code",
   "execution_count": 1,
   "id": "0f34ea72",
   "metadata": {},
   "outputs": [],
   "source": [
    "# Load and activate the SQL extension to allow us to execute SQL in a Jupyter notebook. \n",
    "# If you get an error here, make sure that mysql and pymysql are installed correctly. \n",
    "\n",
    "%load_ext sql"
   ]
  },
  {
   "cell_type": "markdown",
   "id": "3f78b691",
   "metadata": {},
   "source": [
    "Next, go ahead and load your database. To do this, you will need to ensure you have downloaded the `TMDB.db` sqlite file from Athena and have stored it in a known location."
   ]
  },
  {
   "cell_type": "code",
   "execution_count": 2,
   "id": "d279a04d",
   "metadata": {},
   "outputs": [],
   "source": [
    "# Establish a connection to the local database using the '%sql' magic command.\n",
    "# Replace 'password' with our connection password and `db_name` with our database name. \n",
    "# If you get an error here, please make sure the database name or password is correct.\n",
    "\n",
    "%sql sqlite:///tmdb.db"
   ]
  },
  {
   "cell_type": "markdown",
   "id": "6f8bbc0b-c31c-4274-ad13-399a9182a260",
   "metadata": {},
   "source": [
    "If the above line didn't throw out any errors, then you should be good to go. Good luck with the exam! "
   ]
  },
  {
   "cell_type": "markdown",
   "id": "f5ed5285",
   "metadata": {},
   "source": [
    "## Questions on SQL\n",
    "\n",
    "Use the given cell below each question to execute your SQL queries to find the correct input from the options provided. Your solution should match one of the multiple-choice questions on Athena."
   ]
  },
  {
   "cell_type": "markdown",
   "id": "86802726",
   "metadata": {},
   "source": [
    "### Question 1\n",
    "\n",
    "Who won the Oscar for “Actor in a Leading Role” in  2015?\n",
    "\n",
    "(Hint: The winner is indicated as '1.0'.)\n",
    "\n",
    "**Options:** \n",
    "\n",
    "  - Micheal Fassbender\n",
    "  - Natalie Portman\n",
    "  - Leonardo DiCaprio\n",
    "  - Eddie Redmayne\n"
   ]
  },
  {
   "cell_type": "code",
   "execution_count": 3,
   "id": "91f3421f",
   "metadata": {},
   "outputs": [
    {
     "name": "stdout",
     "output_type": "stream",
     "text": [
      " * sqlite:///tmdb.db\n",
      "Done.\n"
     ]
    },
    {
     "data": {
      "text/html": [
       "<table>\n",
       "    <thead>\n",
       "        <tr>\n",
       "            <th>year</th>\n",
       "            <th>award</th>\n",
       "            <th>winner</th>\n",
       "            <th>name</th>\n",
       "            <th>film</th>\n",
       "        </tr>\n",
       "    </thead>\n",
       "    <tbody>\n",
       "        <tr>\n",
       "            <td>2015</td>\n",
       "            <td>Actor in a Leading Role</td>\n",
       "            <td>1.0</td>\n",
       "            <td>Leonardo DiCaprio</td>\n",
       "            <td>The Revenant</td>\n",
       "        </tr>\n",
       "        <tr>\n",
       "            <td>2015</td>\n",
       "            <td>Actor in a Supporting Role</td>\n",
       "            <td>1.0</td>\n",
       "            <td>Mark Rylance</td>\n",
       "            <td>Bridge of Spies</td>\n",
       "        </tr>\n",
       "        <tr>\n",
       "            <td>2015</td>\n",
       "            <td>Actress in a Leading Role</td>\n",
       "            <td>1.0</td>\n",
       "            <td>Brie Larson</td>\n",
       "            <td>Room</td>\n",
       "        </tr>\n",
       "        <tr>\n",
       "            <td>2015</td>\n",
       "            <td>Actress in a Supporting Role</td>\n",
       "            <td>1.0</td>\n",
       "            <td>Alicia Vikander</td>\n",
       "            <td>The Danish Girl</td>\n",
       "        </tr>\n",
       "        <tr>\n",
       "            <td>2015</td>\n",
       "            <td>Animated Feature Film</td>\n",
       "            <td>1.0</td>\n",
       "            <td>Inside Out</td>\n",
       "            <td>Pete Docter and Jonas Rivera</td>\n",
       "        </tr>\n",
       "        <tr>\n",
       "            <td>2015</td>\n",
       "            <td>Costume Design</td>\n",
       "            <td>1.0</td>\n",
       "            <td>Mad Max: Fury Road</td>\n",
       "            <td>Jenny Beavan</td>\n",
       "        </tr>\n",
       "        <tr>\n",
       "            <td>2015</td>\n",
       "            <td>Directing</td>\n",
       "            <td>1.0</td>\n",
       "            <td>The Revenant</td>\n",
       "            <td>Alejandro G. I+¦+írritu</td>\n",
       "        </tr>\n",
       "        <tr>\n",
       "            <td>2015</td>\n",
       "            <td>Documentary (Feature)</td>\n",
       "            <td>1.0</td>\n",
       "            <td>Amy</td>\n",
       "            <td>Asif Kapadia and James Gay-Rees</td>\n",
       "        </tr>\n",
       "        <tr>\n",
       "            <td>2015</td>\n",
       "            <td>Documentary (Short Subject)</td>\n",
       "            <td>1.0</td>\n",
       "            <td>A Girl in the River: The Price of Forgiveness</td>\n",
       "            <td>Sharmeen Obaid-Chinoy</td>\n",
       "        </tr>\n",
       "        <tr>\n",
       "            <td>2015</td>\n",
       "            <td>Film Editing</td>\n",
       "            <td>1.0</td>\n",
       "            <td>Mad Max: Fury Road</td>\n",
       "            <td>Margaret Sixel</td>\n",
       "        </tr>\n",
       "        <tr>\n",
       "            <td>2015</td>\n",
       "            <td>Foreign Language Film</td>\n",
       "            <td>1.0</td>\n",
       "            <td>Son of Saul</td>\n",
       "            <td>Hungary</td>\n",
       "        </tr>\n",
       "        <tr>\n",
       "            <td>2015</td>\n",
       "            <td>Makeup and Hairstyling</td>\n",
       "            <td>1.0</td>\n",
       "            <td>Mad Max: Fury Road</td>\n",
       "            <td>Lesley Vanderwalt, Elka Wardega and Damian Martin</td>\n",
       "        </tr>\n",
       "        <tr>\n",
       "            <td>2015</td>\n",
       "            <td>Music (Original Score)</td>\n",
       "            <td>1.0</td>\n",
       "            <td>The Hateful Eight</td>\n",
       "            <td>Ennio Morricone</td>\n",
       "        </tr>\n",
       "        <tr>\n",
       "            <td>2015</td>\n",
       "            <td>Music (Original Song)</td>\n",
       "            <td>1.0</td>\n",
       "            <td>Writing&#x27;s On The Wall from Spectre</td>\n",
       "            <td>Music and Lyric by Jimmy Napes and Sam Smith</td>\n",
       "        </tr>\n",
       "        <tr>\n",
       "            <td>2015</td>\n",
       "            <td>Best Picture</td>\n",
       "            <td>1.0</td>\n",
       "            <td>Spotlight</td>\n",
       "            <td>Michael Sugar, Steve Golin, Nicole Rocklin and Blye Pagon Faust, Producers</td>\n",
       "        </tr>\n",
       "        <tr>\n",
       "            <td>2015</td>\n",
       "            <td>Production Design</td>\n",
       "            <td>1.0</td>\n",
       "            <td>Mad Max: Fury Road</td>\n",
       "            <td>Production Design: Colin Gibson; Set Decoration: Lisa Thompson</td>\n",
       "        </tr>\n",
       "        <tr>\n",
       "            <td>2015</td>\n",
       "            <td>Short Film (Animated)</td>\n",
       "            <td>1.0</td>\n",
       "            <td>Bear Story</td>\n",
       "            <td>Gabriel Osorio and Pato Escala</td>\n",
       "        </tr>\n",
       "        <tr>\n",
       "            <td>2015</td>\n",
       "            <td>Short Film (Live Action)</td>\n",
       "            <td>1.0</td>\n",
       "            <td>Stutterer</td>\n",
       "            <td>Benjamin Cleary and Serena Armitage</td>\n",
       "        </tr>\n",
       "        <tr>\n",
       "            <td>2015</td>\n",
       "            <td>Sound Editing</td>\n",
       "            <td>1.0</td>\n",
       "            <td>Mad Max: Fury Road</td>\n",
       "            <td>Mark Mangini and David White</td>\n",
       "        </tr>\n",
       "        <tr>\n",
       "            <td>2015</td>\n",
       "            <td>Sound Mixing</td>\n",
       "            <td>1.0</td>\n",
       "            <td>Mad Max: Fury Road</td>\n",
       "            <td>Chris Jenkins, Gregg Rudloff and Ben Osmo</td>\n",
       "        </tr>\n",
       "        <tr>\n",
       "            <td>2015</td>\n",
       "            <td>Visual Effects</td>\n",
       "            <td>1.0</td>\n",
       "            <td>Ex Machina</td>\n",
       "            <td>Andrew Whitehurst, Paul Norris, Mark Ardington and Sara Bennett</td>\n",
       "        </tr>\n",
       "        <tr>\n",
       "            <td>2015</td>\n",
       "            <td>Writing (Adapted Screenplay)</td>\n",
       "            <td>1.0</td>\n",
       "            <td>The Big Short</td>\n",
       "            <td>Screenplay by Charles Randolph and Adam McKay</td>\n",
       "        </tr>\n",
       "        <tr>\n",
       "            <td>2015</td>\n",
       "            <td>Writing (Original Screenplay)</td>\n",
       "            <td>1.0</td>\n",
       "            <td>Spotlight</td>\n",
       "            <td>Written by Josh Singer &amp; Tom McCarthy</td>\n",
       "        </tr>\n",
       "        <tr>\n",
       "            <td>2015</td>\n",
       "            <td>Jean Hersholt Humanitarian Award</td>\n",
       "            <td>1.0</td>\n",
       "            <td>Debbie Reynolds</td>\n",
       "            <td>None</td>\n",
       "        </tr>\n",
       "        <tr>\n",
       "            <td>2015</td>\n",
       "            <td>Honorary Award</td>\n",
       "            <td>1.0</td>\n",
       "            <td>Spike Lee</td>\n",
       "            <td>None</td>\n",
       "        </tr>\n",
       "        <tr>\n",
       "            <td>2015</td>\n",
       "            <td>Honorary Award</td>\n",
       "            <td>1.0</td>\n",
       "            <td>Gena Rowlands</td>\n",
       "            <td>None</td>\n",
       "        </tr>\n",
       "    </tbody>\n",
       "</table>"
      ],
      "text/plain": [
       "[('2015', 'Actor in a Leading Role', '1.0', 'Leonardo DiCaprio', 'The Revenant'),\n",
       " ('2015', 'Actor in a Supporting Role', '1.0', 'Mark Rylance', 'Bridge of Spies'),\n",
       " ('2015', 'Actress in a Leading Role', '1.0', 'Brie Larson', 'Room'),\n",
       " ('2015', 'Actress in a Supporting Role', '1.0', 'Alicia Vikander', 'The Danish Girl'),\n",
       " ('2015', 'Animated Feature Film', '1.0', 'Inside Out', 'Pete Docter and Jonas Rivera'),\n",
       " ('2015', 'Costume Design', '1.0', 'Mad Max: Fury Road', 'Jenny Beavan'),\n",
       " ('2015', 'Directing', '1.0', 'The Revenant', 'Alejandro G. I+¦+írritu'),\n",
       " ('2015', 'Documentary (Feature)', '1.0', 'Amy', 'Asif Kapadia and James Gay-Rees'),\n",
       " ('2015', 'Documentary (Short Subject)', '1.0', 'A Girl in the River: The Price of Forgiveness', 'Sharmeen Obaid-Chinoy'),\n",
       " ('2015', 'Film Editing', '1.0', 'Mad Max: Fury Road', 'Margaret Sixel'),\n",
       " ('2015', 'Foreign Language Film', '1.0', 'Son of Saul', 'Hungary'),\n",
       " ('2015', 'Makeup and Hairstyling', '1.0', 'Mad Max: Fury Road', 'Lesley Vanderwalt, Elka Wardega and Damian Martin'),\n",
       " ('2015', 'Music (Original Score)', '1.0', 'The Hateful Eight', 'Ennio Morricone'),\n",
       " ('2015', 'Music (Original Song)', '1.0', \"Writing's On The Wall from Spectre\", 'Music and Lyric by Jimmy Napes and Sam Smith'),\n",
       " ('2015', 'Best Picture', '1.0', 'Spotlight', 'Michael Sugar, Steve Golin, Nicole Rocklin and Blye Pagon Faust, Producers'),\n",
       " ('2015', 'Production Design', '1.0', 'Mad Max: Fury Road', 'Production Design: Colin Gibson; Set Decoration: Lisa Thompson'),\n",
       " ('2015', 'Short Film (Animated)', '1.0', 'Bear Story', 'Gabriel Osorio and Pato Escala'),\n",
       " ('2015', 'Short Film (Live Action)', '1.0', 'Stutterer', 'Benjamin Cleary and Serena Armitage'),\n",
       " ('2015', 'Sound Editing', '1.0', 'Mad Max: Fury Road', 'Mark Mangini and David White'),\n",
       " ('2015', 'Sound Mixing', '1.0', 'Mad Max: Fury Road', 'Chris Jenkins, Gregg Rudloff and Ben Osmo'),\n",
       " ('2015', 'Visual Effects', '1.0', 'Ex Machina', 'Andrew Whitehurst, Paul Norris, Mark Ardington and Sara Bennett'),\n",
       " ('2015', 'Writing (Adapted Screenplay)', '1.0', 'The Big Short', 'Screenplay by Charles Randolph and Adam McKay'),\n",
       " ('2015', 'Writing (Original Screenplay)', '1.0', 'Spotlight', 'Written by Josh Singer & Tom McCarthy'),\n",
       " ('2015', 'Jean Hersholt Humanitarian Award', '1.0', 'Debbie Reynolds', None),\n",
       " ('2015', 'Honorary Award', '1.0', 'Spike Lee', None),\n",
       " ('2015', 'Honorary Award', '1.0', 'Gena Rowlands', None)]"
      ]
     },
     "execution_count": 3,
     "metadata": {},
     "output_type": "execute_result"
    }
   ],
   "source": [
    "%%sql\n",
    "SELECT *\n",
    "FROM oscars\n",
    "WHERE year = 2015 AND winner = 1.0;"
   ]
  },
  {
   "cell_type": "markdown",
   "id": "9545206c",
   "metadata": {},
   "source": [
    "### Question 2\n",
    "\n",
    "What query will produce the ten oldest movies in the database?\n",
    "\n",
    "**Options:**\n",
    "\n",
    " - SELECT TOP(10) * FROM movies WHERE release_date ORDER BY release_date ASC\n",
    "\n",
    " - SELECT  * FROM movies WHERE release_date IS NOT NULL ORDER BY release_date ASC LIMIT 10\n",
    "\n",
    " - SELECT * FROM movies WHERE release_date IS NOT NULL ORDER BY release_date DESC LIMIT 10\n",
    "\n",
    " -  SELECT * FROM movies WHERE release_date IS NULL ORDER BY release_date DESC LIMIT 10"
   ]
  },
  {
   "cell_type": "code",
   "execution_count": 4,
   "id": "748f4263",
   "metadata": {},
   "outputs": [
    {
     "name": "stdout",
     "output_type": "stream",
     "text": [
      " * sqlite:///tmdb.db\n",
      "Done.\n"
     ]
    },
    {
     "data": {
      "text/html": [
       "<table>\n",
       "    <thead>\n",
       "        <tr>\n",
       "            <th>movie_id</th>\n",
       "            <th>title</th>\n",
       "            <th>release_date</th>\n",
       "            <th>budget</th>\n",
       "            <th>homepage</th>\n",
       "            <th>original_language</th>\n",
       "            <th>original_title</th>\n",
       "            <th>overview</th>\n",
       "            <th>popularity</th>\n",
       "            <th>revenue</th>\n",
       "            <th>runtime</th>\n",
       "            <th>release_status</th>\n",
       "            <th>tagline</th>\n",
       "            <th>vote_average</th>\n",
       "            <th>vote_count</th>\n",
       "        </tr>\n",
       "    </thead>\n",
       "    <tbody>\n",
       "        <tr>\n",
       "            <td>3059</td>\n",
       "            <td>Intolerance</td>\n",
       "            <td>1916-09-04 00:00:00.000000</td>\n",
       "            <td>385907</td>\n",
       "            <td>None</td>\n",
       "            <td>en</td>\n",
       "            <td>Intolerance</td>\n",
       "            <td>The story of a poor young woman, separated by prejudice from her husband and baby, is interwoven with tales of intolerance from throughout history.</td>\n",
       "            <td>3.232447</td>\n",
       "            <td>8394751.0</td>\n",
       "            <td>197.0</td>\n",
       "            <td>Released</td>\n",
       "            <td>The Cruel Hand of Intolerance</td>\n",
       "            <td>7.4</td>\n",
       "            <td>60</td>\n",
       "        </tr>\n",
       "        <tr>\n",
       "            <td>3060</td>\n",
       "            <td>The Big Parade</td>\n",
       "            <td>1925-11-05 00:00:00.000000</td>\n",
       "            <td>245000</td>\n",
       "            <td>None</td>\n",
       "            <td>en</td>\n",
       "            <td>The Big Parade</td>\n",
       "            <td>The story of an idle rich boy who joins the US Army&#x27;s Rainbow Division and is sent to France to fight in World War I, becomes friends with two working class men, experiences the horrors of trench warfare, and finds love with a French girl.</td>\n",
       "            <td>0.785744</td>\n",
       "            <td>22000000.0</td>\n",
       "            <td>151.0</td>\n",
       "            <td>Released</td>\n",
       "            <td>None</td>\n",
       "            <td>7.0</td>\n",
       "            <td>21</td>\n",
       "        </tr>\n",
       "        <tr>\n",
       "            <td>19</td>\n",
       "            <td>Metropolis</td>\n",
       "            <td>1927-01-10 00:00:00.000000</td>\n",
       "            <td>92620000</td>\n",
       "            <td>None</td>\n",
       "            <td>de</td>\n",
       "            <td>Metropolis</td>\n",
       "            <td>In a futuristic city sharply divided between the working class and the city planners, the son of the city&#x27;s mastermind falls in love with a working class prophet who predicts the coming of a savior to mediate their differences.</td>\n",
       "            <td>32.351527</td>\n",
       "            <td>650422.0</td>\n",
       "            <td>153.0</td>\n",
       "            <td>Released</td>\n",
       "            <td>There can be no understanding between the hands and the brain unless the heart acts as mediator.</td>\n",
       "            <td>8.0</td>\n",
       "            <td>657</td>\n",
       "        </tr>\n",
       "        <tr>\n",
       "            <td>905</td>\n",
       "            <td>Pandora&#x27;s Box</td>\n",
       "            <td>1929-01-30 00:00:00.000000</td>\n",
       "            <td>0</td>\n",
       "            <td>None</td>\n",
       "            <td>de</td>\n",
       "            <td>Die Bnchse der Pandora</td>\n",
       "            <td>The rise and inevitable fall of an amoral but naive young woman whose insouciant eroticism inspires lust and violence in those around her.</td>\n",
       "            <td>1.824184</td>\n",
       "            <td>0.0</td>\n",
       "            <td>109.0</td>\n",
       "            <td>Released</td>\n",
       "            <td>None</td>\n",
       "            <td>7.6</td>\n",
       "            <td>45</td>\n",
       "        </tr>\n",
       "        <tr>\n",
       "            <td>65203</td>\n",
       "            <td>The Broadway Melody</td>\n",
       "            <td>1929-02-08 00:00:00.000000</td>\n",
       "            <td>379000</td>\n",
       "            <td>None</td>\n",
       "            <td>en</td>\n",
       "            <td>The Broadway Melody</td>\n",
       "            <td>Harriet and Queenie Mahoney, a vaudeville act, come to Broadway, where their friend Eddie Kerns needs them for his number in one of Francis Zanfield&#x27;s shows. Eddie was in love with Harriet, but when he meets Queenie, he falls in love to her, but she is courted by Jock Warriner, a member of the New Yorker high society. It takes a while till Queenie recognizes, that she is for Jock nothing more than a toy, and it also takes a while till Harriet recognizes, that Eddie is in love with Queenie</td>\n",
       "            <td>0.968865</td>\n",
       "            <td>4358000.0</td>\n",
       "            <td>100.0</td>\n",
       "            <td>Released</td>\n",
       "            <td>The pulsating drama of Broadway&#x27;s bared heart speaks and sings with a voice to stir your soul!</td>\n",
       "            <td>5.0</td>\n",
       "            <td>19</td>\n",
       "        </tr>\n",
       "        <tr>\n",
       "            <td>22301</td>\n",
       "            <td>Hell&#x27;s Angels</td>\n",
       "            <td>1930-11-15 00:00:00.000000</td>\n",
       "            <td>3950000</td>\n",
       "            <td>None</td>\n",
       "            <td>en</td>\n",
       "            <td>Hell&#x27;s Angels</td>\n",
       "            <td>Two brothers attending Oxford enlist with the Royal Flying Corps when World War I breaks out. Roy and Monte Rutledge have very different personalities. Monte is a freewheeling womanizer, even with his brother&#x27;s girlfriend Helen. He also proves to have a yellow streak when it comes to his Night Patrol duties. Roy is made of strong moral fiber and attempts to keep his brother in line. Both volunteer for an extremely risky two man bombing mission for different reasons. Monte wants to lose his cowardly reputation and Roy seeks to protect his brother. Roy loves Helen; Helen enjoys an affair with Monte; before they leave on their mission over Germany they find her in still another man&#x27;s arms.  Their assignment to knock out a strategic German munitions facility is a booming success, but with a squadron of fighters bearing down on them afterwards, escape seems unlikely.</td>\n",
       "            <td>8.484123</td>\n",
       "            <td>8000000.0</td>\n",
       "            <td>127.0</td>\n",
       "            <td>Released</td>\n",
       "            <td>Howard Hughes&#x27; Thrilling Multi-Million Dollar Air Spectacle</td>\n",
       "            <td>6.1</td>\n",
       "            <td>19</td>\n",
       "        </tr>\n",
       "        <tr>\n",
       "            <td>22649</td>\n",
       "            <td>A Farewell to Arms</td>\n",
       "            <td>1932-12-08 00:00:00.000000</td>\n",
       "            <td>4</td>\n",
       "            <td>None</td>\n",
       "            <td>en</td>\n",
       "            <td>A Farewell to Arms</td>\n",
       "            <td>British nurse Catherine Barkley (Helen Hayes) and American Lieutenant Frederic Henry (Gary Cooper) fall in love during the First World War in Italy. Eventually separated by Frederic&#x27;s transfer, tremendous challenges and difficult decisions face each, as the war rages on. Academy Awards winner for Best Cinematography and for Best Sound, Recording. Nominated for Best Picture and for Best Art Direction.</td>\n",
       "            <td>1.199451</td>\n",
       "            <td>25.0</td>\n",
       "            <td>89.0</td>\n",
       "            <td>Released</td>\n",
       "            <td>Every woman who has loved will understand</td>\n",
       "            <td>6.2</td>\n",
       "            <td>28</td>\n",
       "        </tr>\n",
       "        <tr>\n",
       "            <td>3062</td>\n",
       "            <td>42nd Street</td>\n",
       "            <td>1933-02-02 00:00:00.000000</td>\n",
       "            <td>439000</td>\n",
       "            <td>None</td>\n",
       "            <td>en</td>\n",
       "            <td>42nd Street</td>\n",
       "            <td>A producer puts on what may be his last Broadway show, and at the last moment a chorus girl has to replace the star.</td>\n",
       "            <td>1.933366</td>\n",
       "            <td>2281000.0</td>\n",
       "            <td>89.0</td>\n",
       "            <td>Released</td>\n",
       "            <td>None</td>\n",
       "            <td>6.1</td>\n",
       "            <td>37</td>\n",
       "        </tr>\n",
       "        <tr>\n",
       "            <td>43595</td>\n",
       "            <td>She Done Him Wrong</td>\n",
       "            <td>1933-02-09 00:00:00.000000</td>\n",
       "            <td>200000</td>\n",
       "            <td>None</td>\n",
       "            <td>en</td>\n",
       "            <td>She Done Him Wrong</td>\n",
       "            <td>&quot;New York singer and nightclub owner Lady Lou has more men friends than you can imagine. Unfortunately one of them is a vicious criminal who&#x27;s escaped and is on the way to see &quot;&quot;his&quot;&quot; girl, not realising she hasn&#x27;t exactly been faithful in his absence. Help is at hand in the form of young Captain Cummings a local temperance league leader though.&quot;</td>\n",
       "            <td>0.622752</td>\n",
       "            <td>2200000.0</td>\n",
       "            <td>66.0</td>\n",
       "            <td>Released</td>\n",
       "            <td>Mae West gives a &#x27;Hot Time&#x27; to the nation!</td>\n",
       "            <td>5.1</td>\n",
       "            <td>27</td>\n",
       "        </tr>\n",
       "        <tr>\n",
       "            <td>3078</td>\n",
       "            <td>It Happened One Night</td>\n",
       "            <td>1934-02-22 00:00:00.000000</td>\n",
       "            <td>325000</td>\n",
       "            <td>None</td>\n",
       "            <td>en</td>\n",
       "            <td>It Happened One Night</td>\n",
       "            <td>Ellie Andrews has just tied the knot with society aviator King Westley when she is whisked away to her father&#x27;s yacht and out of King&#x27;s clutches. Ellie jumps ship and eventually winds up on a bus headed back to her husband. Reluctantly she must accept the help of out-of- work reporter Peter Warne. Actually, Warne doesn&#x27;t give her any choice: either she sticks with him until he gets her back to her husband, or he&#x27;ll blow the whistle on Ellie to her father. Either way, Peter gets what he wants... a really juicy newspaper story!</td>\n",
       "            <td>11.871424</td>\n",
       "            <td>4500000.0</td>\n",
       "            <td>105.0</td>\n",
       "            <td>Released</td>\n",
       "            <td>TOGETHER... for the first time</td>\n",
       "            <td>7.7</td>\n",
       "            <td>275</td>\n",
       "        </tr>\n",
       "    </tbody>\n",
       "</table>"
      ],
      "text/plain": [
       "[(3059, 'Intolerance', '1916-09-04 00:00:00.000000', 385907, None, 'en', 'Intolerance', 'The story of a poor young woman, separated by prejudice from her husband and baby, is interwoven with tales of intolerance from throughout history.', 3.232447, 8394751.0, 197.0, 'Released', 'The Cruel Hand of Intolerance', 7.4, 60),\n",
       " (3060, 'The Big Parade', '1925-11-05 00:00:00.000000', 245000, None, 'en', 'The Big Parade', \"The story of an idle rich boy who joins the US Army's Rainbow Division and is sent to France to fight in World War I, becomes friends with two working class men, experiences the horrors of trench warfare, and finds love with a French girl.\", 0.785744, 22000000.0, 151.0, 'Released', None, 7.0, 21),\n",
       " (19, 'Metropolis', '1927-01-10 00:00:00.000000', 92620000, None, 'de', 'Metropolis', \"In a futuristic city sharply divided between the working class and the city planners, the son of the city's mastermind falls in love with a working class prophet who predicts the coming of a savior to mediate their differences.\", 32.351527, 650422.0, 153.0, 'Released', 'There can be no understanding between the hands and the brain unless the heart acts as mediator.', 8.0, 657),\n",
       " (905, \"Pandora's Box\", '1929-01-30 00:00:00.000000', 0, None, 'de', 'Die Bnchse der Pandora', 'The rise and inevitable fall of an amoral but naive young woman whose insouciant eroticism inspires lust and violence in those around her.', 1.824184, 0.0, 109.0, 'Released', None, 7.6, 45),\n",
       " (65203, 'The Broadway Melody', '1929-02-08 00:00:00.000000', 379000, None, 'en', 'The Broadway Melody', \"Harriet and Queenie Mahoney, a vaudeville act, come to Broadway, where their friend Eddie Kerns needs them for his number in one of Francis Zanfield' ... (195 characters truncated) ... eenie recognizes, that she is for Jock nothing more than a toy, and it also takes a while till Harriet recognizes, that Eddie is in love with Queenie\", 0.968865, 4358000.0, 100.0, 'Released', \"The pulsating drama of Broadway's bared heart speaks and sings with a voice to stir your soul!\", 5.0, 19),\n",
       " (22301, \"Hell's Angels\", '1930-11-15 00:00:00.000000', 3950000, None, 'en', \"Hell's Angels\", \"Two brothers attending Oxford enlist with the Royal Flying Corps when World War I breaks out. Roy and Monte Rutledge have very different personalitie ... (576 characters truncated) ... t a strategic German munitions facility is a booming success, but with a squadron of fighters bearing down on them afterwards, escape seems unlikely.\", 8.484123, 8000000.0, 127.0, 'Released', \"Howard Hughes' Thrilling Multi-Million Dollar Air Spectacle\", 6.1, 19),\n",
       " (22649, 'A Farewell to Arms', '1932-12-08 00:00:00.000000', 4, None, 'en', 'A Farewell to Arms', \"British nurse Catherine Barkley (Helen Hayes) and American Lieutenant Frederic Henry (Gary Cooper) fall in love during the First World War in Italy.  ... (105 characters truncated) ... the war rages on. Academy Awards winner for Best Cinematography and for Best Sound, Recording. Nominated for Best Picture and for Best Art Direction.\", 1.199451, 25.0, 89.0, 'Released', 'Every woman who has loved will understand', 6.2, 28),\n",
       " (3062, '42nd Street', '1933-02-02 00:00:00.000000', 439000, None, 'en', '42nd Street', 'A producer puts on what may be his last Broadway show, and at the last moment a chorus girl has to replace the star.', 1.933366, 2281000.0, 89.0, 'Released', None, 6.1, 37),\n",
       " (43595, 'She Done Him Wrong', '1933-02-09 00:00:00.000000', 200000, None, 'en', 'She Done Him Wrong', '\"New York singer and nightclub owner Lady Lou has more men friends than you can imagine. Unfortunately one of them is a vicious criminal who\\'s escap ... (52 characters truncated) ... ing she hasn\\'t exactly been faithful in his absence. Help is at hand in the form of young Captain Cummings a local temperance league leader though.\"', 0.622752, 2200000.0, 66.0, 'Released', \"Mae West gives a 'Hot Time' to the nation!\", 5.1, 27),\n",
       " (3078, 'It Happened One Night', '1934-02-22 00:00:00.000000', 325000, None, 'en', 'It Happened One Night', \"Ellie Andrews has just tied the knot with society aviator King Westley when she is whisked away to her father's yacht and out of King's clutches. Ell ... (233 characters truncated) ... ts her back to her husband, or he'll blow the whistle on Ellie to her father. Either way, Peter gets what he wants... a really juicy newspaper story!\", 11.871424, 4500000.0, 105.0, 'Released', 'TOGETHER... for the first time', 7.7, 275)]"
      ]
     },
     "execution_count": 4,
     "metadata": {},
     "output_type": "execute_result"
    }
   ],
   "source": [
    "%%sql\n",
    "SELECT\n",
    "    *\n",
    "FROM\n",
    "    movies\n",
    "WHERE\n",
    "    release_date IS NOT NULL\n",
    "ORDER BY\n",
    "    release_date ASC\n",
    "LIMIT 10;"
   ]
  },
  {
   "cell_type": "markdown",
   "id": "79dc3d5f",
   "metadata": {},
   "source": [
    "### Question 3\n",
    "\n",
    "How many unique awards are there in the Oscars table?\n",
    "\n",
    "**Options:**\n",
    " - 141\n",
    " - 53 \n",
    " - 80\n",
    " - 114"
   ]
  },
  {
   "cell_type": "code",
   "execution_count": 5,
   "id": "f4621a53",
   "metadata": {},
   "outputs": [
    {
     "name": "stdout",
     "output_type": "stream",
     "text": [
      " * sqlite:///tmdb.db\n",
      "Done.\n"
     ]
    },
    {
     "data": {
      "text/html": [
       "<table>\n",
       "    <thead>\n",
       "        <tr>\n",
       "            <th>Number of unique awards</th>\n",
       "        </tr>\n",
       "    </thead>\n",
       "    <tbody>\n",
       "        <tr>\n",
       "            <td>114</td>\n",
       "        </tr>\n",
       "    </tbody>\n",
       "</table>"
      ],
      "text/plain": [
       "[(114,)]"
      ]
     },
     "execution_count": 5,
     "metadata": {},
     "output_type": "execute_result"
    }
   ],
   "source": [
    "%%sql\n",
    "SELECT COUNT(DISTINCT award) AS 'Number of unique awards'\n",
    "FROM oscars;"
   ]
  },
  {
   "cell_type": "markdown",
   "id": "a8b06373",
   "metadata": {},
   "source": [
    "### Question 4\n",
    "\n",
    "How many movies are there that contain the word “Spider” within their title?\n",
    "\n",
    "**Options:**\n",
    " - 0\n",
    " - 5\n",
    " - 1\n",
    " - 9"
   ]
  },
  {
   "cell_type": "code",
   "execution_count": 6,
   "id": "1e003247",
   "metadata": {},
   "outputs": [
    {
     "name": "stdout",
     "output_type": "stream",
     "text": [
      " * sqlite:///tmdb.db\n",
      "Done.\n"
     ]
    },
    {
     "data": {
      "text/html": [
       "<table>\n",
       "    <thead>\n",
       "        <tr>\n",
       "            <th>COUNT(title)</th>\n",
       "        </tr>\n",
       "    </thead>\n",
       "    <tbody>\n",
       "        <tr>\n",
       "            <td>9</td>\n",
       "        </tr>\n",
       "    </tbody>\n",
       "</table>"
      ],
      "text/plain": [
       "[(9,)]"
      ]
     },
     "execution_count": 6,
     "metadata": {},
     "output_type": "execute_result"
    }
   ],
   "source": [
    "%%sql\n",
    "SELECT COUNT(title)\n",
    "FROM movies\n",
    "WHERE title LIKE '%spider%';"
   ]
  },
  {
   "cell_type": "markdown",
   "id": "2f77c5bd",
   "metadata": {},
   "source": [
    "### Question 5\n",
    "\n",
    "How many movies are there that are both in the \"Thriller\" genre and contain the word “love” anywhere in the keywords?\n",
    "\n",
    "\n",
    "**Options:**\n",
    " - 48\n",
    " - 38\n",
    " - 14\n",
    " - 1"
   ]
  },
  {
   "cell_type": "code",
   "execution_count": 7,
   "id": "abc5146c",
   "metadata": {},
   "outputs": [
    {
     "name": "stdout",
     "output_type": "stream",
     "text": [
      " * sqlite:///tmdb.db\n",
      "Done.\n"
     ]
    },
    {
     "data": {
      "text/html": [
       "<table>\n",
       "    <thead>\n",
       "        <tr>\n",
       "            <th>Number of Movies</th>\n",
       "        </tr>\n",
       "    </thead>\n",
       "    <tbody>\n",
       "        <tr>\n",
       "            <td>14</td>\n",
       "        </tr>\n",
       "    </tbody>\n",
       "</table>"
      ],
      "text/plain": [
       "[(14,)]"
      ]
     },
     "execution_count": 7,
     "metadata": {},
     "output_type": "execute_result"
    }
   ],
   "source": [
    "%%sql\n",
    "SELECT\n",
    "    COUNT(m.title) AS 'Number of Movies'\n",
    "FROM\n",
    "    movies AS m\n",
    "JOIN\n",
    "    genremap AS gp\n",
    "    ON m.movie_id = gp.movie_id\n",
    "JOIN\n",
    "    keywordmap AS km\n",
    "    ON m.movie_id = km.movie_id\n",
    "JOIN\n",
    "    genres AS g\n",
    "    ON gp.genre_id = g.genre_id\n",
    "JOIN\n",
    "    keywords AS k\n",
    "    ON km.keyword_id = k.keyword_id\n",
    "WHERE g.genre_name = 'Thriller' AND k.keyword_name LIKE 'love';\n",
    "\n"
   ]
  },
  {
   "cell_type": "markdown",
   "id": "8c6e82eb",
   "metadata": {},
   "source": [
    "### Question 6\n",
    "\n",
    "How many movies are there that were released between 1 August 2006 ('2006-08-01') and 1 October 2009 ('2009-10-01') that have a popularity score of more than 40 and a budget of less than 50 000 000?\n",
    "\n",
    " \n",
    "**Options:**\n",
    "\n",
    " - 29\n",
    " - 23\n",
    " - 28\n",
    " - 35"
   ]
  },
  {
   "cell_type": "code",
   "execution_count": 8,
   "id": "e8de6542",
   "metadata": {},
   "outputs": [
    {
     "name": "stdout",
     "output_type": "stream",
     "text": [
      " * sqlite:///tmdb.db\n",
      "Done.\n"
     ]
    },
    {
     "data": {
      "text/html": [
       "<table>\n",
       "    <thead>\n",
       "        <tr>\n",
       "            <th>COUNT(title)</th>\n",
       "        </tr>\n",
       "    </thead>\n",
       "    <tbody>\n",
       "        <tr>\n",
       "            <td>29</td>\n",
       "        </tr>\n",
       "    </tbody>\n",
       "</table>"
      ],
      "text/plain": [
       "[(29,)]"
      ]
     },
     "execution_count": 8,
     "metadata": {},
     "output_type": "execute_result"
    }
   ],
   "source": [
    "%%sql\n",
    "SELECT\n",
    "    COUNT(title)\n",
    "FROM\n",
    "    movies\n",
    "WHERE\n",
    "    release_date BETWEEN '2006-08-01' AND '2009-10-01' AND\n",
    "    popularity > 40 AND budget < 50000000;"
   ]
  },
  {
   "cell_type": "markdown",
   "id": "cf0d12b1",
   "metadata": {},
   "source": [
    "### Question 7\n",
    "\n",
    "How many unique characters has \"Vin Diesel\" played so far in the database?\n",
    "\n",
    "**Options:**\n",
    " - 24\n",
    " - 19\n",
    " - 18\n",
    " - 16"
   ]
  },
  {
   "cell_type": "code",
   "execution_count": 9,
   "id": "cc1eecb5",
   "metadata": {},
   "outputs": [
    {
     "name": "stdout",
     "output_type": "stream",
     "text": [
      " * sqlite:///tmdb.db\n",
      "Done.\n"
     ]
    },
    {
     "data": {
      "text/html": [
       "<table>\n",
       "    <thead>\n",
       "        <tr>\n",
       "            <th>COUNT(a.actor_name)</th>\n",
       "        </tr>\n",
       "    </thead>\n",
       "    <tbody>\n",
       "        <tr>\n",
       "            <td>19</td>\n",
       "        </tr>\n",
       "    </tbody>\n",
       "</table>"
      ],
      "text/plain": [
       "[(19,)]"
      ]
     },
     "execution_count": 9,
     "metadata": {},
     "output_type": "execute_result"
    }
   ],
   "source": [
    "%%sql\n",
    "SELECT DISTINCT\n",
    "    COUNT(a.actor_name)\n",
    "FROM\n",
    "    actors AS a\n",
    "JOIN casts AS c ON a.actor_id = c.actor_id\n",
    "JOIN movies AS m ON c.movie_id = m.movie_id\n",
    "WHERE\n",
    "    a.actor_name = 'Vin Diesel';"
   ]
  },
  {
   "cell_type": "markdown",
   "id": "297fc8b8",
   "metadata": {},
   "source": [
    "### Question 8\n",
    "\n",
    "What are the genres of the movie “The Royal Tenenbaums”?\n",
    "\n",
    "\n",
    "**Options:**\n",
    " - Action, Romance\n",
    " - Drama, Comedy\n",
    " - Crime, Thriller\n",
    " - Drama, Romance"
   ]
  },
  {
   "cell_type": "code",
   "execution_count": 10,
   "id": "e2ad1e00",
   "metadata": {},
   "outputs": [
    {
     "name": "stdout",
     "output_type": "stream",
     "text": [
      " * sqlite:///tmdb.db\n",
      "Done.\n"
     ]
    },
    {
     "data": {
      "text/html": [
       "<table>\n",
       "    <thead>\n",
       "        <tr>\n",
       "            <th>title</th>\n",
       "            <th>genre_name</th>\n",
       "        </tr>\n",
       "    </thead>\n",
       "    <tbody>\n",
       "        <tr>\n",
       "            <td>The Royal Tenenbaums</td>\n",
       "            <td>Drama</td>\n",
       "        </tr>\n",
       "        <tr>\n",
       "            <td>The Royal Tenenbaums</td>\n",
       "            <td>Comedy</td>\n",
       "        </tr>\n",
       "    </tbody>\n",
       "</table>"
      ],
      "text/plain": [
       "[('The Royal Tenenbaums', 'Drama'), ('The Royal Tenenbaums', 'Comedy')]"
      ]
     },
     "execution_count": 10,
     "metadata": {},
     "output_type": "execute_result"
    }
   ],
   "source": [
    "%%sql\n",
    "SELECT\n",
    "    m.title,\n",
    "    g.genre_name\n",
    "FROM\n",
    "    genres g \n",
    "JOIN genremap gp ON g.genre_id = gp.genre_id\n",
    "JOIN movies m ON m.movie_id = gp.movie_id\n",
    "WHERE title = 'The Royal Tenenbaums';"
   ]
  },
  {
   "cell_type": "markdown",
   "id": "d3ed71a0",
   "metadata": {},
   "source": [
    "### Question 9\n",
    "\n",
    "What are the three production companies that have the highest movie popularity score on average, as recorded within the database?\n",
    "\n",
    "\n",
    "**Options:**\n",
    "\n",
    " - MCL Films S.A., Turner Pictures, and George Stevens Productions\n",
    " - The Donners' Company, Bulletproof Cupid, and Kinberg Genre\n",
    " - Bulletproof Cupid, The Donners' Company, and MCL Films S.A\n",
    " - B.Sting Entertainment, Illumination Pictures, and Aztec Musique"
   ]
  },
  {
   "cell_type": "code",
   "execution_count": 11,
   "id": "92d65440",
   "metadata": {},
   "outputs": [
    {
     "name": "stdout",
     "output_type": "stream",
     "text": [
      " * sqlite:///tmdb.db\n",
      "Done.\n"
     ]
    },
    {
     "data": {
      "text/html": [
       "<table>\n",
       "    <thead>\n",
       "        <tr>\n",
       "            <th>title</th>\n",
       "            <th>Average Popularity</th>\n",
       "            <th>production_company_name</th>\n",
       "        </tr>\n",
       "    </thead>\n",
       "    <tbody>\n",
       "        <tr>\n",
       "            <td>Deadpool</td>\n",
       "            <td>514.569956</td>\n",
       "            <td>The Donners&#x27; Company</td>\n",
       "        </tr>\n",
       "        <tr>\n",
       "            <td>Guardians of the Galaxy</td>\n",
       "            <td>481.098624</td>\n",
       "            <td>Bulletproof Cupid</td>\n",
       "        </tr>\n",
       "        <tr>\n",
       "            <td>X-Men: Apocalypse</td>\n",
       "            <td>326.92099900000005</td>\n",
       "            <td>Kinberg Genre</td>\n",
       "        </tr>\n",
       "    </tbody>\n",
       "</table>"
      ],
      "text/plain": [
       "[('Deadpool', 514.569956, \"The Donners' Company\"),\n",
       " ('Guardians of the Galaxy', 481.098624, 'Bulletproof Cupid'),\n",
       " ('X-Men: Apocalypse', 326.92099900000005, 'Kinberg Genre')]"
      ]
     },
     "execution_count": 11,
     "metadata": {},
     "output_type": "execute_result"
    }
   ],
   "source": [
    "%%sql\n",
    "SELECT\n",
    "    m.title,\n",
    "    AVG(m.popularity) AS 'Average Popularity',\n",
    "    pc.production_company_name\n",
    "FROM\n",
    "    movies m\n",
    "JOIN productioncompanymap p ON m.movie_id = p.movie_id\n",
    "JOIN productioncompanies pc ON p.production_company_id = pc.production_company_id\n",
    "GROUP BY\n",
    "    pc.production_company_name\n",
    "ORDER BY\n",
    "    AVG(m.popularity) DESC\n",
    "LIMIT 3;"
   ]
  },
  {
   "cell_type": "markdown",
   "id": "d892dcac",
   "metadata": {},
   "source": [
    "### Question 10\n",
    "\n",
    "How many female actors (i.e. gender = 1) have a name that starts with the letter \"N\"?\n",
    "\n",
    "\n",
    "**Options:**\n",
    "\n",
    " - 0\n",
    " - 355\n",
    " - 7335\n",
    " - 1949"
   ]
  },
  {
   "cell_type": "code",
   "execution_count": 12,
   "id": "4bca2942",
   "metadata": {},
   "outputs": [
    {
     "name": "stdout",
     "output_type": "stream",
     "text": [
      " * sqlite:///tmdb.db\n",
      "Done.\n"
     ]
    },
    {
     "data": {
      "text/html": [
       "<table>\n",
       "    <thead>\n",
       "        <tr>\n",
       "            <th>COUNT(actor_name)</th>\n",
       "        </tr>\n",
       "    </thead>\n",
       "    <tbody>\n",
       "        <tr>\n",
       "            <td>355</td>\n",
       "        </tr>\n",
       "    </tbody>\n",
       "</table>"
      ],
      "text/plain": [
       "[(355,)]"
      ]
     },
     "execution_count": 12,
     "metadata": {},
     "output_type": "execute_result"
    }
   ],
   "source": [
    "%%sql\n",
    "SELECT\n",
    "    COUNT(actor_name)\n",
    "FROM\n",
    "    actors\n",
    "WHERE\n",
    "    actor_name LIKE 'N%' AND gender = 1;"
   ]
  },
  {
   "cell_type": "markdown",
   "id": "7ea65b50",
   "metadata": {},
   "source": [
    "### Question 11\n",
    "\n",
    "Which genre has, on average, the lowest movie popularity score? \n",
    "\n",
    "\n",
    "**Options:**\n",
    "\n",
    " - Science Fiction\n",
    " - Animation\n",
    " - Documentary\n",
    " - Foreign"
   ]
  },
  {
   "cell_type": "code",
   "execution_count": 13,
   "id": "e3a55c56",
   "metadata": {},
   "outputs": [
    {
     "name": "stdout",
     "output_type": "stream",
     "text": [
      " * sqlite:///tmdb.db\n",
      "Done.\n"
     ]
    },
    {
     "data": {
      "text/html": [
       "<table>\n",
       "    <thead>\n",
       "        <tr>\n",
       "            <th>genre_name</th>\n",
       "            <th>Average Popularity</th>\n",
       "        </tr>\n",
       "    </thead>\n",
       "    <tbody>\n",
       "        <tr>\n",
       "            <td>Foreign</td>\n",
       "            <td>0.686786794117647</td>\n",
       "        </tr>\n",
       "        <tr>\n",
       "            <td>Documentary</td>\n",
       "            <td>3.945723809090908</td>\n",
       "        </tr>\n",
       "        <tr>\n",
       "            <td>TV Movie</td>\n",
       "            <td>6.389414749999999</td>\n",
       "        </tr>\n",
       "    </tbody>\n",
       "</table>"
      ],
      "text/plain": [
       "[('Foreign', 0.686786794117647),\n",
       " ('Documentary', 3.945723809090908),\n",
       " ('TV Movie', 6.389414749999999)]"
      ]
     },
     "execution_count": 13,
     "metadata": {},
     "output_type": "execute_result"
    }
   ],
   "source": [
    "%%sql\n",
    "SELECT\n",
    "    g.genre_name,\n",
    "    AVG(m.popularity) AS 'Average Popularity'\n",
    "FROM\n",
    "    movies m\n",
    "JOIN genremap gp ON m.movie_id = gp.movie_id\n",
    "JOIN genres g ON gp.genre_id = g.genre_id\n",
    "GROUP BY\n",
    "    g.genre_name\n",
    "ORDER BY\n",
    "    AVG(m.popularity) ASC\n",
    "LIMIT 3;"
   ]
  },
  {
   "cell_type": "markdown",
   "id": "3769de93",
   "metadata": {},
   "source": [
    "### Question 12\n",
    "\n",
    "Which award category has the highest number of actor nominations (actors can be male or female)? (Hint: `Oscars.name` contains both actors' names and film names.)\n",
    "\n",
    "**Options:**\n",
    "\n",
    "- Special Achievement Award\n",
    "- Actor in a Supporting Role\n",
    "- Actress in a Supporting Role\n",
    "- Best Picture\n",
    "\n"
   ]
  },
  {
   "cell_type": "code",
   "execution_count": 14,
   "metadata": {},
   "outputs": [
    {
     "name": "stdout",
     "output_type": "stream",
     "text": [
      " * sqlite:///tmdb.db\n",
      "Done.\n"
     ]
    },
    {
     "data": {
      "text/html": [
       "<table>\n",
       "    <thead>\n",
       "        <tr>\n",
       "            <th>award</th>\n",
       "            <th>total_actor_nominations</th>\n",
       "        </tr>\n",
       "    </thead>\n",
       "    <tbody>\n",
       "        <tr>\n",
       "            <td>Actor in a Supporting Role</td>\n",
       "            <td>356</td>\n",
       "        </tr>\n",
       "    </tbody>\n",
       "</table>"
      ],
      "text/plain": [
       "[('Actor in a Supporting Role', 356)]"
      ]
     },
     "execution_count": 14,
     "metadata": {},
     "output_type": "execute_result"
    }
   ],
   "source": [
    "%%sql\n",
    "SELECT \n",
    "    award,\n",
    "    COUNT(name) total_actor_nominations\n",
    "FROM \n",
    "    oscars o\n",
    "JOIN actors a\n",
    "ON o.name = a.actor_name\n",
    "GROUP BY 1\n",
    "ORDER BY 2 DESC\n",
    "LIMIT 1;"
   ]
  },
  {
   "cell_type": "markdown",
   "id": "c80a7c0c",
   "metadata": {},
   "source": [
    "### Question 13\n",
    "\n",
    "For all of the entries in the Oscars table before 1934, the year is stored differently than in all the subsequent years. For example, the year would be saved as “1932/1933” instead of just “1933” (the second indicated year).  Which of the following options would be the appropriate code to update this column to have the format of the year be consistent throughout the entire table (second indicated year only shown)?\n",
    "\n",
    "\n",
    "**Options:**\n",
    "\n",
    "- `UPDATE Oscars SET year = RIGHT(year, -4)`\n",
    "- `UPDATE Oscars SET year = SELECT substr(year, -4)`\n",
    "- `UPDATE Oscars SET year = substr(year, -4)`\n",
    "- `UPDATE Oscars year =  substr(year, 4)`"
   ]
  },
  {
   "cell_type": "code",
   "execution_count": 15,
   "id": "6220bb09",
   "metadata": {},
   "outputs": [
    {
     "name": "stdout",
     "output_type": "stream",
     "text": [
      " * sqlite:///tmdb.db\n",
      "(sqlite3.OperationalError) near \"#UPDATE\": syntax error\n",
      "[SQL: #UPDATE Oscars SET = SUBSTR(year, -4)]\n",
      "(Background on this error at: https://sqlalche.me/e/20/e3q8)\n"
     ]
    }
   ],
   "source": [
    "%%sql\n",
    "#UPDATE Oscars SET = SUBSTR(year, -4)"
   ]
  },
  {
   "cell_type": "markdown",
   "id": "a7d73885",
   "metadata": {},
   "source": [
    "### Question 14\n",
    "\n",
    "DStv will be having a special week dedicated to the actor Alan Rickman. Which of the following queries would create a new _view_ that shows the titles, release dates, taglines, and overviews of all movies that Alan Rickman has played in?\n",
    "\n",
    "\n",
    "\n",
    "**Options:**\n",
    "\n",
    "- SELECT title, release_date, tagline, overview \n",
    "FROM Movies LEFT JOIN Casts ON Casts.movie_id = Movies.movie_id Left JOIN Actors ON Casts.actor_id = Actors.actor_id \n",
    "WHERE Actors.actor_name = 'Alan Rickman'\n",
    "AS VIEW Alan_Rickman_Movies\n",
    "\n",
    "- CREATE VIEW Alan_Rickman_Movies AS  \n",
    "SELECT title, release_date, tagline, overview FROM Movies  \n",
    "LEFT JOIN Casts ON Casts.movie_id = Movies.movie_id Left JOIN Actors\n",
    "ON Casts.actor_id = Actors.actor_id\n",
    "WHERE Actors.actor_name = 'Alan Rickman' \n",
    "\n",
    "\n",
    "- CREATE NEW VIEW  Name  = Alan_Rickman_Movies AS SELECT title, release_date, tagline, overview FROM Movies LEFT JOIN Casts ON Casts.movie_id = Movies.movie_id Left JOIN Actors ON Casts.actor_id = Actors.actor_id WHERE Actors.actor_name = 'Alan Rickman'\n",
    "\n",
    "- VIEW Alan_Rickman_Movies AS SELECT title, release_date, tagline, overview FROM Movies LEFT JOIN Casts ON Casts.movie_id = Movies.movie_id Left JOIN Actors ON Casts.actor_id = Actors.actor_id WHERE Actors.actor_name = 'Alan Rickman'"
   ]
  },
  {
   "cell_type": "code",
   "execution_count": 16,
   "id": "f9b82bc6",
   "metadata": {},
   "outputs": [
    {
     "name": "stdout",
     "output_type": "stream",
     "text": [
      " * sqlite:///tmdb.db\n",
      "Done.\n",
      "Done.\n"
     ]
    },
    {
     "data": {
      "text/plain": [
       "[]"
      ]
     },
     "execution_count": 16,
     "metadata": {},
     "output_type": "execute_result"
    }
   ],
   "source": [
    "%%sql\n",
    "DROP VIEW IF EXISTS Alan_Rickman_Movies;\n",
    "CREATE VIEW Alan_Rickman_Movies AS  \n",
    "SELECT title, release_date, tagline, overview FROM Movies  \n",
    "LEFT JOIN Casts ON Casts.movie_id = Movies.movie_id Left JOIN Actors\n",
    "ON Casts.actor_id = Actors.actor_id\n",
    "WHERE Actors.actor_name = 'Alan Rickman';"
   ]
  },
  {
   "cell_type": "markdown",
   "id": "42e9915e",
   "metadata": {},
   "source": [
    "### Question 15\n",
    "\n",
    "Which of the statements about database normalisation are true?\n",
    "\n",
    "**Statements:**\n",
    " \n",
    "i) Database normalisation improves data redundancy, saves on storage space, and fulfils the requirement of records to be uniquely identified.\n",
    "\n",
    "ii) Database normalisation supports up to the Third Normal Form and removes all data anomalies.\n",
    "\n",
    "iii) Database normalisation removes inconsistencies that may cause the analysis of our data to be more complicated.\n",
    "\n",
    "iv) Database normalisation increases data redundancy, saves on storage space, and fulfils the requirement of records to be uniquely identified.\n",
    "\n",
    "**Options:**\n",
    "\n",
    " - (i) and (ii)\n",
    " - (i) and (iii)\n",
    " - (ii) and (iv)\n",
    " - (iii) and (iv)"
   ]
  },
  {
   "cell_type": "markdown",
   "id": "26fd094b-0fee-46f1-a4b8-73766813c42b",
   "metadata": {
    "tags": []
   },
   "source": [
    "#  \n",
    "\n",
    "<div align=\"center\" style=\" font-size: 80%; text-align: center; margin: 0 auto\">\n",
    "<img src=\"https://raw.githubusercontent.com/Explore-AI/Pictures/master/ExploreAI_logos/EAI_Blue_Dark.png\"  style=\"width:200px\";/>\n",
    "</div>"
   ]
  }
 ],
 "metadata": {
  "kernelspec": {
   "display_name": "Python 3 (ipykernel)",
   "language": "python",
   "name": "python3"
  },
  "language_info": {
   "codemirror_mode": {
    "name": "ipython",
    "version": 3
   },
   "file_extension": ".py",
   "mimetype": "text/x-python",
   "name": "python",
   "nbconvert_exporter": "python",
   "pygments_lexer": "ipython3",
   "version": "3.11.1"
  }
 },
 "nbformat": 4,
 "nbformat_minor": 5
}
