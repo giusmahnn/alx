{
 "cells": [
  {
   "attachments": {},
   "cell_type": "markdown",
   "id": "51b1254d",
   "metadata": {},
   "source": [
    "<div align=\"right\" style=\" font-size: 80%; text-align: center; margin: 0 auto\">\n",
    "<img src=\"https://raw.githubusercontent.com/Explore-AI/Pictures/master/ExploreAI_logos/Logo blue_dark.png\"  style=\"width:25px\" align=\"right\";/>\n",
    "</div>"
   ]
  },
  {
   "attachments": {},
   "cell_type": "markdown",
   "id": "f662d169",
   "metadata": {},
   "source": [
    "# Querying in notebooks\n",
    "© ExploreAI Academy"
   ]
  },
  {
   "attachments": {},
   "cell_type": "markdown",
   "id": "26af890c",
   "metadata": {},
   "source": [
    "In this exercise, we will query a sample SQLite database file for a retail company called Northwind to gain some insight into their data. Ensure that you have downloaded the database file Northwind.db."
   ]
  },
  {
   "attachments": {},
   "cell_type": "markdown",
   "id": "2d230d14",
   "metadata": {},
   "source": [
    "## Learning objectives\n",
    "\n",
    "By the end of this train, you should:\n",
    "- Use basic SELECT statements to retrieve specific data from a database.\n",
    "- Use the WHERE clause to filter data based on certain conditions.\n",
    "- Combine multiple conditions using logical operators such as AND and OR.\n",
    "- Use different logical operators to get or exclude specific values in a table, including the use of IN for multiple values."
   ]
  },
  {
   "attachments": {},
   "cell_type": "markdown",
   "id": "7fd5e3b8",
   "metadata": {},
   "source": [
    "First, let's load our sample database:"
   ]
  },
  {
   "cell_type": "code",
   "execution_count": 3,
   "id": "2d0d820e",
   "metadata": {},
   "outputs": [],
   "source": [
    "# Load and activate the SQL extension to allow us to execute SQL in a Jupyter notebook.\n",
    "%reload_ext sql\n"
   ]
  },
  {
   "cell_type": "code",
   "execution_count": 4,
   "id": "599e3c6c",
   "metadata": {},
   "outputs": [],
   "source": [
    "# Load the Northwind database stored in your local machine. \n",
    "# Make sure the file is saved in the same folder as this notebook.\n",
    "%sql sqlite:///Northwind.db\n",
    "    "
   ]
  },
  {
   "attachments": {},
   "cell_type": "markdown",
   "id": "06af8b46",
   "metadata": {},
   "source": [
    "Here is a view of all of our tables in the database:"
   ]
  },
  {
   "attachments": {},
   "cell_type": "markdown",
   "id": "69217e12",
   "metadata": {},
   "source": [
    "<div align=\"center\" style=\" font-size: 100%; text-align: center; margin: 0 auto\">\n",
    "<img src=\"https://raw.githubusercontent.com/Explore-AI/Pictures/master/Northwind_ERD.png\"  style=\"width:1000px\";/>\n",
    "<br>\n",
    "<br>\n",
    "    <em>Figure 1: Northwind ERD</em>\n",
    "</div>"
   ]
  },
  {
   "attachments": {},
   "cell_type": "markdown",
   "id": "920e89d2",
   "metadata": {},
   "source": [
    "## Exercise\n",
    "\n",
    "Run the necessary queries that will provide us with the following information. Compare your queries with the solutions at the end of this notebook."
   ]
  },
  {
   "attachments": {},
   "cell_type": "markdown",
   "id": "466e53c1",
   "metadata": {},
   "source": [
    "### Exercise 1\n",
    "\n",
    "Find the names of all customers from Germany in the Northwind database."
   ]
  },
  {
   "cell_type": "code",
   "execution_count": 5,
   "id": "038f28ea",
   "metadata": {},
   "outputs": [
    {
     "name": "stdout",
     "output_type": "stream",
     "text": [
      " * sqlite:///Northwind.db\n",
      "Done.\n"
     ]
    },
    {
     "data": {
      "text/html": [
       "<table>\n",
       "    <thead>\n",
       "        <tr>\n",
       "            <th>ContactName</th>\n",
       "        </tr>\n",
       "    </thead>\n",
       "    <tbody>\n",
       "        <tr>\n",
       "            <td>Maria Anders</td>\n",
       "        </tr>\n",
       "        <tr>\n",
       "            <td>Ana Trujillo</td>\n",
       "        </tr>\n",
       "        <tr>\n",
       "            <td>Antonio Moreno</td>\n",
       "        </tr>\n",
       "        <tr>\n",
       "            <td>Thomas Hardy</td>\n",
       "        </tr>\n",
       "        <tr>\n",
       "            <td>Christina Berglund</td>\n",
       "        </tr>\n",
       "        <tr>\n",
       "            <td>Hanna Moos</td>\n",
       "        </tr>\n",
       "        <tr>\n",
       "            <td>Frdrique Citeaux</td>\n",
       "        </tr>\n",
       "        <tr>\n",
       "            <td>Martn Sommer</td>\n",
       "        </tr>\n",
       "        <tr>\n",
       "            <td>Laurence Lebihan</td>\n",
       "        </tr>\n",
       "        <tr>\n",
       "            <td>Elizabeth Lincoln</td>\n",
       "        </tr>\n",
       "    </tbody>\n",
       "</table>"
      ],
      "text/plain": [
       "[('Maria Anders',),\n",
       " ('Ana Trujillo',),\n",
       " ('Antonio Moreno',),\n",
       " ('Thomas Hardy',),\n",
       " ('Christina Berglund',),\n",
       " ('Hanna Moos',),\n",
       " ('Frdrique Citeaux',),\n",
       " ('Martn Sommer',),\n",
       " ('Laurence Lebihan',),\n",
       " ('Elizabeth Lincoln',)]"
      ]
     },
     "execution_count": 5,
     "metadata": {},
     "output_type": "execute_result"
    }
   ],
   "source": [
    "%%sql\n",
    "\n",
    "SELECT\n",
    "    ContactName\n",
    "FROM\n",
    "    customers\n",
    "LIMIT 10;"
   ]
  },
  {
   "attachments": {},
   "cell_type": "markdown",
   "id": "86802726",
   "metadata": {},
   "source": [
    "### Exercise 2\n",
    "\n",
    "\n",
    "Find all products in the Northwind database that have a unit price greater than 30 and are discontinued. \n",
    "\n",
    "Note: The product has been discontinued when the column `Discontinued` is equal to  1."
   ]
  },
  {
   "cell_type": "code",
   "execution_count": 25,
   "id": "91f3421f",
   "metadata": {},
   "outputs": [
    {
     "name": "stdout",
     "output_type": "stream",
     "text": [
      " * sqlite:///Northwind.db\n",
      "Done.\n"
     ]
    },
    {
     "data": {
      "text/html": [
       "<table>\n",
       "    <thead>\n",
       "        <tr>\n",
       "            <th>ProductName</th>\n",
       "            <th>UnitPrice</th>\n",
       "            <th>BIT</th>\n",
       "        </tr>\n",
       "    </thead>\n",
       "    <tbody>\n",
       "        <tr>\n",
       "            <td>Mishi Kobe Niku</td>\n",
       "            <td>97</td>\n",
       "            <td>1</td>\n",
       "        </tr>\n",
       "        <tr>\n",
       "            <td>Alice Mutton</td>\n",
       "            <td>39</td>\n",
       "            <td>1</td>\n",
       "        </tr>\n",
       "        <tr>\n",
       "            <td>Rssle Sauerkraut</td>\n",
       "            <td>45.6</td>\n",
       "            <td>1</td>\n",
       "        </tr>\n",
       "        <tr>\n",
       "            <td>Thringer Rostbratwurst</td>\n",
       "            <td>123.79</td>\n",
       "            <td>1</td>\n",
       "        </tr>\n",
       "        <tr>\n",
       "            <td>Perth Pasties</td>\n",
       "            <td>32.8</td>\n",
       "            <td>1</td>\n",
       "        </tr>\n",
       "    </tbody>\n",
       "</table>"
      ],
      "text/plain": [
       "[('Mishi Kobe Niku', 97, 1),\n",
       " ('Alice Mutton', 39, 1),\n",
       " ('Rssle Sauerkraut', 45.6, 1),\n",
       " ('Thringer Rostbratwurst', 123.79, 1),\n",
       " ('Perth Pasties', 32.8, 1)]"
      ]
     },
     "execution_count": 25,
     "metadata": {},
     "output_type": "execute_result"
    }
   ],
   "source": [
    "%%sql\n",
    "\n",
    "SELECT\n",
    "    ProductName, UnitPrice, Discontinued BIT\n",
    "FROM\n",
    "    products\n",
    "WHERE\n",
    "    UnitPrice > 30\n",
    "AND \n",
    "    Discontinued = 1\n",
    ";"
   ]
  },
  {
   "attachments": {},
   "cell_type": "markdown",
   "id": "f0fade51",
   "metadata": {},
   "source": [
    "### Exercise 3\n",
    "\n",
    "\n",
    "Find the contact names and phone numbers of customers from either 'USA' or 'Canada'."
   ]
  },
  {
   "cell_type": "code",
   "execution_count": 10,
   "id": "748f4263",
   "metadata": {},
   "outputs": [
    {
     "name": "stdout",
     "output_type": "stream",
     "text": [
      " * sqlite:///Northwind.db\n",
      "Done.\n"
     ]
    },
    {
     "data": {
      "text/html": [
       "<table>\n",
       "    <thead>\n",
       "        <tr>\n",
       "            <th>ContactName</th>\n",
       "            <th>Phone</th>\n",
       "            <th>Country</th>\n",
       "        </tr>\n",
       "    </thead>\n",
       "    <tbody>\n",
       "        <tr>\n",
       "            <td>Elizabeth Lincoln</td>\n",
       "            <td>(604) 555-4729</td>\n",
       "            <td>Canada</td>\n",
       "        </tr>\n",
       "        <tr>\n",
       "            <td>Howard Snyder</td>\n",
       "            <td>(503) 555-7555</td>\n",
       "            <td>USA</td>\n",
       "        </tr>\n",
       "        <tr>\n",
       "            <td>Yoshi Latimer</td>\n",
       "            <td>(503) 555-6874</td>\n",
       "            <td>USA</td>\n",
       "        </tr>\n",
       "        <tr>\n",
       "            <td>Yoshi Tannamuri</td>\n",
       "            <td>(604) 555-3392</td>\n",
       "            <td>Canada</td>\n",
       "        </tr>\n",
       "        <tr>\n",
       "            <td>John Steel</td>\n",
       "            <td>(509) 555-7969</td>\n",
       "            <td>USA</td>\n",
       "        </tr>\n",
       "        <tr>\n",
       "            <td>Jaime Yorres</td>\n",
       "            <td>(415) 555-5938</td>\n",
       "            <td>USA</td>\n",
       "        </tr>\n",
       "        <tr>\n",
       "            <td>Fran Wilson</td>\n",
       "            <td>(503) 555-9573</td>\n",
       "            <td>USA</td>\n",
       "        </tr>\n",
       "        <tr>\n",
       "            <td>Jean Fresnire</td>\n",
       "            <td>(514) 555-8054</td>\n",
       "            <td>Canada</td>\n",
       "        </tr>\n",
       "        <tr>\n",
       "            <td>Rene Phillips</td>\n",
       "            <td>(907) 555-7584</td>\n",
       "            <td>USA</td>\n",
       "        </tr>\n",
       "        <tr>\n",
       "            <td>Paula Wilson</td>\n",
       "            <td>(505) 555-5939</td>\n",
       "            <td>USA</td>\n",
       "        </tr>\n",
       "        <tr>\n",
       "            <td>Jose Pavarotti</td>\n",
       "            <td>(208) 555-8097</td>\n",
       "            <td>USA</td>\n",
       "        </tr>\n",
       "        <tr>\n",
       "            <td>Art Braunschweiger</td>\n",
       "            <td>(307) 555-4680</td>\n",
       "            <td>USA</td>\n",
       "        </tr>\n",
       "        <tr>\n",
       "            <td>Liz Nixon</td>\n",
       "            <td>(503) 555-3612</td>\n",
       "            <td>USA</td>\n",
       "        </tr>\n",
       "        <tr>\n",
       "            <td>Liu Wong</td>\n",
       "            <td>(406) 555-5834</td>\n",
       "            <td>USA</td>\n",
       "        </tr>\n",
       "        <tr>\n",
       "            <td>Helvetius Nagy</td>\n",
       "            <td>(206) 555-8257</td>\n",
       "            <td>USA</td>\n",
       "        </tr>\n",
       "        <tr>\n",
       "            <td>Karl Jablonski</td>\n",
       "            <td>(206) 555-4112</td>\n",
       "            <td>USA</td>\n",
       "        </tr>\n",
       "    </tbody>\n",
       "</table>"
      ],
      "text/plain": [
       "[('Elizabeth Lincoln', '(604) 555-4729', 'Canada'),\n",
       " ('Howard Snyder', '(503) 555-7555', 'USA'),\n",
       " ('Yoshi Latimer', '(503) 555-6874', 'USA'),\n",
       " ('Yoshi Tannamuri', '(604) 555-3392', 'Canada'),\n",
       " ('John Steel', '(509) 555-7969', 'USA'),\n",
       " ('Jaime Yorres', '(415) 555-5938', 'USA'),\n",
       " ('Fran Wilson', '(503) 555-9573', 'USA'),\n",
       " ('Jean Fresnire', '(514) 555-8054', 'Canada'),\n",
       " ('Rene Phillips', '(907) 555-7584', 'USA'),\n",
       " ('Paula Wilson', '(505) 555-5939', 'USA'),\n",
       " ('Jose Pavarotti', '(208) 555-8097', 'USA'),\n",
       " ('Art Braunschweiger', '(307) 555-4680', 'USA'),\n",
       " ('Liz Nixon', '(503) 555-3612', 'USA'),\n",
       " ('Liu Wong', '(406) 555-5834', 'USA'),\n",
       " ('Helvetius Nagy', '(206) 555-8257', 'USA'),\n",
       " ('Karl Jablonski', '(206) 555-4112', 'USA')]"
      ]
     },
     "execution_count": 10,
     "metadata": {},
     "output_type": "execute_result"
    }
   ],
   "source": [
    "%%sql\n",
    "\n",
    "SELECT\n",
    "    ContactName, Phone, Country\n",
    "FROM\n",
    "    customers\n",
    "WHERE\n",
    "    Country = 'USA' OR country = 'Canada';"
   ]
  },
  {
   "attachments": {},
   "cell_type": "markdown",
   "id": "f28aef00",
   "metadata": {},
   "source": [
    "### Exercise 4\n",
    "\n",
    "From the 'Orders' table, select all orders that were placed by 'VINET' or 'TOMSP' and were shipped via shipper 1 or 2.\n"
   ]
  },
  {
   "cell_type": "code",
   "execution_count": 15,
   "id": "f4621a53",
   "metadata": {},
   "outputs": [
    {
     "name": "stdout",
     "output_type": "stream",
     "text": [
      " * sqlite:///Northwind.db\n",
      "Done.\n"
     ]
    },
    {
     "data": {
      "text/html": [
       "<table>\n",
       "    <thead>\n",
       "        <tr>\n",
       "            <th>OrderID</th>\n",
       "            <th>CustomerID</th>\n",
       "            <th>ShipVia</th>\n",
       "        </tr>\n",
       "    </thead>\n",
       "    <tbody>\n",
       "        <tr>\n",
       "            <td>10249</td>\n",
       "            <td>TOMSP</td>\n",
       "            <td>1</td>\n",
       "        </tr>\n",
       "        <tr>\n",
       "            <td>10274</td>\n",
       "            <td>VINET</td>\n",
       "            <td>1</td>\n",
       "        </tr>\n",
       "        <tr>\n",
       "            <td>10295</td>\n",
       "            <td>VINET</td>\n",
       "            <td>2</td>\n",
       "        </tr>\n",
       "        <tr>\n",
       "            <td>10438</td>\n",
       "            <td>TOMSP</td>\n",
       "            <td>2</td>\n",
       "        </tr>\n",
       "        <tr>\n",
       "            <td>10446</td>\n",
       "            <td>TOMSP</td>\n",
       "            <td>1</td>\n",
       "        </tr>\n",
       "        <tr>\n",
       "            <td>10548</td>\n",
       "            <td>TOMSP</td>\n",
       "            <td>2</td>\n",
       "        </tr>\n",
       "        <tr>\n",
       "            <td>10608</td>\n",
       "            <td>TOMSP</td>\n",
       "            <td>2</td>\n",
       "        </tr>\n",
       "        <tr>\n",
       "            <td>10737</td>\n",
       "            <td>VINET</td>\n",
       "            <td>2</td>\n",
       "        </tr>\n",
       "        <tr>\n",
       "            <td>10967</td>\n",
       "            <td>TOMSP</td>\n",
       "            <td>2</td>\n",
       "        </tr>\n",
       "    </tbody>\n",
       "</table>"
      ],
      "text/plain": [
       "[(10249, 'TOMSP', 1),\n",
       " (10274, 'VINET', 1),\n",
       " (10295, 'VINET', 2),\n",
       " (10438, 'TOMSP', 2),\n",
       " (10446, 'TOMSP', 1),\n",
       " (10548, 'TOMSP', 2),\n",
       " (10608, 'TOMSP', 2),\n",
       " (10737, 'VINET', 2),\n",
       " (10967, 'TOMSP', 2)]"
      ]
     },
     "execution_count": 15,
     "metadata": {},
     "output_type": "execute_result"
    }
   ],
   "source": [
    "%%sql\n",
    "\n",
    "SELECT\n",
    "    OrderID, CustomerID, ShipVia\n",
    "FROM\n",
    "    Orders\n",
    "WHERE\n",
    "    ShipVia IN (1, 2)\n",
    "AND\n",
    "    CustomerID IN ('VINET', 'TOMSP');"
   ]
  },
  {
   "attachments": {},
   "cell_type": "markdown",
   "id": "7a51093c",
   "metadata": {},
   "source": [
    "### Challenge question\n",
    "\n",
    "Find the employees in the Northwind database who are either Sales Representatives or Sales Managers and are based in London.\n"
   ]
  },
  {
   "cell_type": "code",
   "execution_count": 29,
   "id": "1a0f68d3",
   "metadata": {},
   "outputs": [
    {
     "name": "stdout",
     "output_type": "stream",
     "text": [
      " * sqlite:///Northwind.db\n",
      "Done.\n"
     ]
    },
    {
     "data": {
      "text/html": [
       "<table>\n",
       "    <thead>\n",
       "        <tr>\n",
       "            <th>FirstName</th>\n",
       "            <th>LastName</th>\n",
       "        </tr>\n",
       "    </thead>\n",
       "    <tbody>\n",
       "        <tr>\n",
       "            <td>Steven</td>\n",
       "            <td>Buchanan</td>\n",
       "        </tr>\n",
       "        <tr>\n",
       "            <td>Michael</td>\n",
       "            <td>Suyama</td>\n",
       "        </tr>\n",
       "        <tr>\n",
       "            <td>Robert</td>\n",
       "            <td>King</td>\n",
       "        </tr>\n",
       "        <tr>\n",
       "            <td>Anne</td>\n",
       "            <td>Dodsworth</td>\n",
       "        </tr>\n",
       "    </tbody>\n",
       "</table>"
      ],
      "text/plain": [
       "[('Steven', 'Buchanan'),\n",
       " ('Michael', 'Suyama'),\n",
       " ('Robert', 'King'),\n",
       " ('Anne', 'Dodsworth')]"
      ]
     },
     "execution_count": 29,
     "metadata": {},
     "output_type": "execute_result"
    }
   ],
   "source": [
    "%%sql\n",
    "\n",
    "SELECT\n",
    "    FirstName,\n",
    "    LastName\n",
    "FROM\n",
    "    employees\n",
    "WHERE \n",
    "    (Title = 'Sales Representative' OR Title = 'Sales Manager') \n",
    "    AND City = 'London';"
   ]
  },
  {
   "attachments": {},
   "cell_type": "markdown",
   "id": "b3c88335",
   "metadata": {},
   "source": [
    "## Solutions"
   ]
  },
  {
   "attachments": {},
   "cell_type": "markdown",
   "id": "a5084b12",
   "metadata": {},
   "source": [
    "### Exercise 1"
   ]
  },
  {
   "cell_type": "code",
   "execution_count": null,
   "id": "c968d875",
   "metadata": {
    "scrolled": true
   },
   "outputs": [],
   "source": [
    "%%sql\n",
    "SELECT \n",
    "    ContactName \n",
    "FROM \n",
    "    Customers \n",
    "WHERE \n",
    "    Country = 'Germany';\n"
   ]
  },
  {
   "attachments": {},
   "cell_type": "markdown",
   "id": "294d8eef",
   "metadata": {},
   "source": [
    "### Exercise 2"
   ]
  },
  {
   "cell_type": "code",
   "execution_count": null,
   "id": "03071e34",
   "metadata": {},
   "outputs": [],
   "source": [
    "%%sql\n",
    "\n",
    "SELECT \n",
    "    ProductName, Discontinued\n",
    "FROM \n",
    "    Products \n",
    "WHERE \n",
    "    UnitPrice > 30 \n",
    "    AND Discontinued = 1;\n"
   ]
  },
  {
   "attachments": {},
   "cell_type": "markdown",
   "id": "eafe40b6",
   "metadata": {},
   "source": [
    "### Exercise 3"
   ]
  },
  {
   "cell_type": "code",
   "execution_count": null,
   "id": "1ffd2239",
   "metadata": {},
   "outputs": [],
   "source": [
    "%%sql\n",
    "\n",
    "SELECT \n",
    "    ContactName, \n",
    "    Phone \n",
    "FROM \n",
    "    Customers \n",
    "WHERE \n",
    "    Country IN ('USA', 'Canada');\n"
   ]
  },
  {
   "attachments": {},
   "cell_type": "markdown",
   "id": "e9956efe",
   "metadata": {},
   "source": [
    "### Exercise 4"
   ]
  },
  {
   "cell_type": "code",
   "execution_count": null,
   "id": "cd662edc",
   "metadata": {},
   "outputs": [],
   "source": [
    "%%sql\n",
    "\n",
    "SELECT \n",
    "    * \n",
    "FROM \n",
    "    Orders \n",
    "WHERE \n",
    "    CustomerID IN ('VINET', 'QUICK', 'SUPRD')\n",
    "    AND ShipVia IN (1,2);"
   ]
  },
  {
   "attachments": {},
   "cell_type": "markdown",
   "id": "c1341a11",
   "metadata": {},
   "source": [
    "### Challenge question"
   ]
  },
  {
   "cell_type": "code",
   "execution_count": 27,
   "id": "9a0cf068",
   "metadata": {},
   "outputs": [
    {
     "name": "stdout",
     "output_type": "stream",
     "text": [
      " * sqlite:///Northwind.db\n",
      "Done.\n"
     ]
    },
    {
     "data": {
      "text/html": [
       "<table>\n",
       "    <thead>\n",
       "        <tr>\n",
       "            <th>FirstName</th>\n",
       "            <th>LastName</th>\n",
       "        </tr>\n",
       "    </thead>\n",
       "    <tbody>\n",
       "        <tr>\n",
       "            <td>Steven</td>\n",
       "            <td>Buchanan</td>\n",
       "        </tr>\n",
       "        <tr>\n",
       "            <td>Michael</td>\n",
       "            <td>Suyama</td>\n",
       "        </tr>\n",
       "        <tr>\n",
       "            <td>Robert</td>\n",
       "            <td>King</td>\n",
       "        </tr>\n",
       "        <tr>\n",
       "            <td>Anne</td>\n",
       "            <td>Dodsworth</td>\n",
       "        </tr>\n",
       "    </tbody>\n",
       "</table>"
      ],
      "text/plain": [
       "[('Steven', 'Buchanan'),\n",
       " ('Michael', 'Suyama'),\n",
       " ('Robert', 'King'),\n",
       " ('Anne', 'Dodsworth')]"
      ]
     },
     "execution_count": 27,
     "metadata": {},
     "output_type": "execute_result"
    }
   ],
   "source": [
    "%%sql\n",
    "\n",
    "SELECT \n",
    "    FirstName, \n",
    "    LastName \n",
    "FROM \n",
    "    Employees \n",
    "WHERE \n",
    "    (Title = 'Sales Representative' OR Title = 'Sales Manager') \n",
    "    AND City = 'London';"
   ]
  },
  {
   "attachments": {},
   "cell_type": "markdown",
   "id": "6d8d9bdd",
   "metadata": {},
   "source": [
    "<div align=\"center\" style=\" font-size: 80%; text-align: center; margin: 0 auto\">\n",
    "<img src=\"https://raw.githubusercontent.com/Explore-AI/Pictures/master/ExploreAI_logos/EAI_Blue_Dark.png\"  style=\"width:200px\";/>\n",
    "</div>"
   ]
  }
 ],
 "metadata": {
  "kernelspec": {
   "display_name": "Python 3 (ipykernel)",
   "language": "python",
   "name": "python3"
  },
  "language_info": {
   "codemirror_mode": {
    "name": "ipython",
    "version": 3
   },
   "file_extension": ".py",
   "mimetype": "text/x-python",
   "name": "python",
   "nbconvert_exporter": "python",
   "pygments_lexer": "ipython3",
   "version": "3.11.1"
  }
 },
 "nbformat": 4,
 "nbformat_minor": 5
}
