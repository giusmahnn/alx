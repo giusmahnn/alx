{
 "cells": [
  {
   "cell_type": "markdown",
   "id": "51b1254d",
   "metadata": {},
   "source": [
    "<div align=\"right\" style=\" font-size: 80%; text-align: center; margin: 0 auto\">\n",
    "<img src=\"https://raw.githubusercontent.com/Explore-AI/Pictures/master/ExploreAI_logos/Logo blue_dark.png\"  style=\"width:25px\" align=\"right\";/>\n",
    "</div>"
   ]
  },
  {
   "cell_type": "markdown",
   "id": "f662d169",
   "metadata": {},
   "source": [
    "# Creating views 1\n",
    "© ExploreAI Academy"
   ]
  },
  {
   "attachments": {},
   "cell_type": "markdown",
   "id": "26af890c",
   "metadata": {},
   "source": [
    "In this exercise, we learn how to create different types of views and how to drop views. \n",
    "\n",
    "Ensure that you have downloaded the database file Chinook.db."
   ]
  },
  {
   "cell_type": "markdown",
   "id": "2d230d14",
   "metadata": {},
   "source": [
    "## Learning objectives\n",
    "\n",
    "By the end of this train, you should be able to:\n",
    "- Create `LOOKUP`, `JOIN`, and `AGGREGATING` views.\n",
    "- Drop a view."
   ]
  },
  {
   "cell_type": "markdown",
   "id": "7fd5e3b8",
   "metadata": {},
   "source": [
    "First, let's load our sample database:"
   ]
  },
  {
   "cell_type": "code",
   "execution_count": 1,
   "id": "2d0d820e",
   "metadata": {},
   "outputs": [],
   "source": [
    "# Load and activate the SQL extension to allow us to execute SQL in a Jupyter notebook.\n",
    "%load_ext sql\n"
   ]
  },
  {
   "cell_type": "code",
   "execution_count": 2,
   "id": "599e3c6c",
   "metadata": {},
   "outputs": [],
   "source": [
    "# Load the Chinook database stored in your local machine. \n",
    "# Make sure the file is saved in the same folder as this notebook.\n",
    "%sql sqlite:///chinook.db"
   ]
  },
  {
   "cell_type": "markdown",
   "id": "06af8b46",
   "metadata": {},
   "source": [
    "Here is a [view](https://www.lucidchart.com/pages/er-diagrams) of all of our tables in the database:"
   ]
  },
  {
   "attachments": {},
   "cell_type": "markdown",
   "id": "08883cce",
   "metadata": {},
   "source": [
    "<div align=\"center\" style=\" font-size: 90%; text-align: center; margin: 0 auto\">\n",
    "<img src=\"https://github.com/Explore-AI/Pictures/blob/master/sqlite-sample-database-color.jpg?raw=true\"  style=\"width:900px\";/>\n",
    "<br>\n",
    "<br>\n",
    "    <em>Figure 1: Chinook ERD</em>\n",
    "</div>\n"
   ]
  },
  {
   "cell_type": "markdown",
   "id": "920e89d2",
   "metadata": {},
   "source": [
    "## Exercise\n",
    "\n",
    "Run the necessary queries that will provide us with the following information. Compare your queries with the solutions at the end of this notebook."
   ]
  },
  {
   "cell_type": "markdown",
   "id": "466e53c1",
   "metadata": {},
   "source": [
    "### Exercise 1\n",
    "\n",
    "Create a `LOOKUP` view of the surname, first name, title, and country of each employee called `Employee_View`.\n"
   ]
  },
  {
   "cell_type": "code",
   "execution_count": 3,
   "id": "038f28ea",
   "metadata": {},
   "outputs": [
    {
     "name": "stdout",
     "output_type": "stream",
     "text": [
      " * sqlite:///chinook.db\n",
      "Done.\n"
     ]
    },
    {
     "data": {
      "text/plain": [
       "[]"
      ]
     },
     "execution_count": 3,
     "metadata": {},
     "output_type": "execute_result"
    }
   ],
   "source": [
    "%%sql\n",
    "CREATE VIEW employees_view AS\n",
    "    SELECT\n",
    "        lastname,\n",
    "        firstname,\n",
    "        title,\n",
    "        country\n",
    "    FROM\n",
    "        employees;"
   ]
  },
  {
   "cell_type": "markdown",
   "id": "86802726",
   "metadata": {},
   "source": [
    "### Exercise 2\n",
    "\n",
    "\n",
    "Query the `Employee_View` view to get a view of the sales team.\n",
    "\n",
    "Use the wildcard operators and the LIKE query to filter all the employees in the specified view."
   ]
  },
  {
   "cell_type": "code",
   "execution_count": 5,
   "id": "91f3421f",
   "metadata": {},
   "outputs": [
    {
     "name": "stdout",
     "output_type": "stream",
     "text": [
      " * sqlite:///chinook.db\n",
      "Done.\n"
     ]
    },
    {
     "data": {
      "text/html": [
       "<table>\n",
       "    <thead>\n",
       "        <tr>\n",
       "            <th>LastName</th>\n",
       "            <th>FirstName</th>\n",
       "            <th>Title</th>\n",
       "            <th>Country</th>\n",
       "        </tr>\n",
       "    </thead>\n",
       "    <tbody>\n",
       "        <tr>\n",
       "            <td>Edwards</td>\n",
       "            <td>Nancy</td>\n",
       "            <td>Sales Manager</td>\n",
       "            <td>Canada</td>\n",
       "        </tr>\n",
       "        <tr>\n",
       "            <td>Peacock</td>\n",
       "            <td>Jane</td>\n",
       "            <td>Sales Support Agent</td>\n",
       "            <td>Canada</td>\n",
       "        </tr>\n",
       "        <tr>\n",
       "            <td>Park</td>\n",
       "            <td>Margaret</td>\n",
       "            <td>Sales Support Agent</td>\n",
       "            <td>Canada</td>\n",
       "        </tr>\n",
       "        <tr>\n",
       "            <td>Johnson</td>\n",
       "            <td>Steve</td>\n",
       "            <td>Sales Support Agent</td>\n",
       "            <td>Canada</td>\n",
       "        </tr>\n",
       "    </tbody>\n",
       "</table>"
      ],
      "text/plain": [
       "[('Edwards', 'Nancy', 'Sales Manager', 'Canada'),\n",
       " ('Peacock', 'Jane', 'Sales Support Agent', 'Canada'),\n",
       " ('Park', 'Margaret', 'Sales Support Agent', 'Canada'),\n",
       " ('Johnson', 'Steve', 'Sales Support Agent', 'Canada')]"
      ]
     },
     "execution_count": 5,
     "metadata": {},
     "output_type": "execute_result"
    }
   ],
   "source": [
    "%%sql\n",
    "SELECT *\n",
    "FROM employees_view\n",
    "WHERE\n",
    "    title like 'sales_%';"
   ]
  },
  {
   "cell_type": "markdown",
   "id": "f0fade51",
   "metadata": {},
   "source": [
    "### Exercise 3\n",
    "\n",
    "\n",
    "Create a `JOIN` view that will link up all the customers with the support staff assisting them, called `Customer_Support_View`. We want to view the following:\n",
    "\n",
    "- First name of the customer\n",
    "- Last name (surname) of the customer\n",
    "- Country where the customer resides\n",
    "- SupportRepId\n",
    "- EmployeeId\n",
    "- Last name of the employee\n",
    "- First name of the employee\n",
    "- Job title of the employee\n",
    "- Country where the employee operated from"
   ]
  },
  {
   "cell_type": "code",
   "execution_count": 14,
   "id": "748f4263",
   "metadata": {},
   "outputs": [
    {
     "name": "stdout",
     "output_type": "stream",
     "text": [
      " * sqlite:///chinook.db\n",
      "Done.\n"
     ]
    },
    {
     "data": {
      "text/plain": [
       "[]"
      ]
     },
     "execution_count": 14,
     "metadata": {},
     "output_type": "execute_result"
    }
   ],
   "source": [
    "%%sql\n",
    "CREATE VIEW Customer_Support_View AS\n",
    "SELECT\n",
    "    c.lastname AS 'Customer_lastname', \n",
    "    c.firstname AS 'Customer_firstname',\n",
    "    c.country AS 'Customer_country',\n",
    "    c.supportrepid AS 'Customer_repID',\n",
    "    e.employeeid AS 'Employee_ID',\n",
    "    e.lastname AS 'Employee_lastname',\n",
    "    e.firstname AS 'Employee_firstname',\n",
    "    e.title AS 'Job_title',\n",
    "    e.country AS 'Employee_country'\n",
    "FROM\n",
    "    customers AS c\n",
    "JOIN\n",
    "    employees AS e\n",
    "ON c.supportrepid = e.employeeid;"
   ]
  },
  {
   "attachments": {},
   "cell_type": "markdown",
   "id": "f28aef00",
   "metadata": {},
   "source": [
    "### Exercise 4\n",
    "\n",
    "Query the `Customer_Support_View` view to get a list of the names and surnames of the clients who were helped by an employee with the `Employeeid` '3'.\n"
   ]
  },
  {
   "cell_type": "code",
   "execution_count": 15,
   "id": "f4621a53",
   "metadata": {},
   "outputs": [
    {
     "name": "stdout",
     "output_type": "stream",
     "text": [
      " * sqlite:///chinook.db\n",
      "Done.\n"
     ]
    },
    {
     "data": {
      "text/html": [
       "<table>\n",
       "    <thead>\n",
       "        <tr>\n",
       "            <th>Customer_lastname</th>\n",
       "            <th>Customer_firstname</th>\n",
       "        </tr>\n",
       "    </thead>\n",
       "    <tbody>\n",
       "        <tr>\n",
       "            <td>Gonçalves</td>\n",
       "            <td>Luís</td>\n",
       "        </tr>\n",
       "        <tr>\n",
       "            <td>Tremblay</td>\n",
       "            <td>François</td>\n",
       "        </tr>\n",
       "        <tr>\n",
       "            <td>Almeida</td>\n",
       "            <td>Roberto</td>\n",
       "        </tr>\n",
       "        <tr>\n",
       "            <td>Peterson</td>\n",
       "            <td>Jennifer</td>\n",
       "        </tr>\n",
       "        <tr>\n",
       "            <td>Brooks</td>\n",
       "            <td>Michelle</td>\n",
       "        </tr>\n",
       "        <tr>\n",
       "            <td>Goyer</td>\n",
       "            <td>Tim</td>\n",
       "        </tr>\n",
       "        <tr>\n",
       "            <td>Ralston</td>\n",
       "            <td>Frank</td>\n",
       "        </tr>\n",
       "        <tr>\n",
       "            <td>Brown</td>\n",
       "            <td>Robert</td>\n",
       "        </tr>\n",
       "        <tr>\n",
       "            <td>Francis</td>\n",
       "            <td>Edward</td>\n",
       "        </tr>\n",
       "        <tr>\n",
       "            <td>Sullivan</td>\n",
       "            <td>Ellie</td>\n",
       "        </tr>\n",
       "        <tr>\n",
       "            <td>Zimmermann</td>\n",
       "            <td>Fynn</td>\n",
       "        </tr>\n",
       "        <tr>\n",
       "            <td>Schröder</td>\n",
       "            <td>Niklas</td>\n",
       "        </tr>\n",
       "        <tr>\n",
       "            <td>Girard</td>\n",
       "            <td>Wyatt</td>\n",
       "        </tr>\n",
       "        <tr>\n",
       "            <td>Mercier</td>\n",
       "            <td>Isabelle</td>\n",
       "        </tr>\n",
       "        <tr>\n",
       "            <td>Hämäläinen</td>\n",
       "            <td>Terhi</td>\n",
       "        </tr>\n",
       "        <tr>\n",
       "            <td>Kovács</td>\n",
       "            <td>Ladislav</td>\n",
       "        </tr>\n",
       "        <tr>\n",
       "            <td>O&#x27;Reilly</td>\n",
       "            <td>Hugh</td>\n",
       "        </tr>\n",
       "        <tr>\n",
       "            <td>Jones</td>\n",
       "            <td>Emma</td>\n",
       "        </tr>\n",
       "        <tr>\n",
       "            <td>Hughes</td>\n",
       "            <td>Phil</td>\n",
       "        </tr>\n",
       "        <tr>\n",
       "            <td>Pareek</td>\n",
       "            <td>Manoj</td>\n",
       "        </tr>\n",
       "        <tr>\n",
       "            <td>Srivastava</td>\n",
       "            <td>Puja</td>\n",
       "        </tr>\n",
       "    </tbody>\n",
       "</table>"
      ],
      "text/plain": [
       "[('Gonçalves', 'Luís'),\n",
       " ('Tremblay', 'François'),\n",
       " ('Almeida', 'Roberto'),\n",
       " ('Peterson', 'Jennifer'),\n",
       " ('Brooks', 'Michelle'),\n",
       " ('Goyer', 'Tim'),\n",
       " ('Ralston', 'Frank'),\n",
       " ('Brown', 'Robert'),\n",
       " ('Francis', 'Edward'),\n",
       " ('Sullivan', 'Ellie'),\n",
       " ('Zimmermann', 'Fynn'),\n",
       " ('Schröder', 'Niklas'),\n",
       " ('Girard', 'Wyatt'),\n",
       " ('Mercier', 'Isabelle'),\n",
       " ('Hämäläinen', 'Terhi'),\n",
       " ('Kovács', 'Ladislav'),\n",
       " (\"O'Reilly\", 'Hugh'),\n",
       " ('Jones', 'Emma'),\n",
       " ('Hughes', 'Phil'),\n",
       " ('Pareek', 'Manoj'),\n",
       " ('Srivastava', 'Puja')]"
      ]
     },
     "execution_count": 15,
     "metadata": {},
     "output_type": "execute_result"
    }
   ],
   "source": [
    "%%sql\n",
    "SELECT\n",
    "    customer_lastname,\n",
    "    customer_firstname\n",
    "FROM\n",
    "    customer_support_view\n",
    "WHERE\n",
    "    employee_ID = 3;"
   ]
  },
  {
   "cell_type": "markdown",
   "id": "7a51093c",
   "metadata": {},
   "source": [
    "### Exercise 5\n",
    "\n",
    "Create an `AGGREGATING` view that counts the number of customers that are currently being serviced per country, called `Customer_per_Country_View`.\n",
    "\n",
    "We would like to see the country name and the number of customers in this view.\n"
   ]
  },
  {
   "cell_type": "code",
   "execution_count": 16,
   "id": "99479d5f",
   "metadata": {},
   "outputs": [
    {
     "name": "stdout",
     "output_type": "stream",
     "text": [
      " * sqlite:///chinook.db\n",
      "Done.\n"
     ]
    },
    {
     "data": {
      "text/plain": [
       "[]"
      ]
     },
     "execution_count": 16,
     "metadata": {},
     "output_type": "execute_result"
    }
   ],
   "source": [
    "%%sql\n",
    "CREATE VIEW Customer_per_Country_View AS\n",
    "SELECT Country, COUNT(*) AS Customer_Count\n",
    "FROM customers\n",
    "GROUP BY Country;\n"
   ]
  },
  {
   "cell_type": "markdown",
   "id": "d5aefbd6",
   "metadata": {},
   "source": [
    "### Exercise 6\n",
    "Write a query that returns the country with the most customers from `Customer_per_Country_View`.\n"
   ]
  },
  {
   "cell_type": "code",
   "execution_count": 18,
   "id": "fc98fe10",
   "metadata": {},
   "outputs": [
    {
     "name": "stdout",
     "output_type": "stream",
     "text": [
      " * sqlite:///chinook.db\n",
      "Done.\n"
     ]
    },
    {
     "data": {
      "text/html": [
       "<table>\n",
       "    <thead>\n",
       "        <tr>\n",
       "            <th>Country</th>\n",
       "            <th>Customer_Count</th>\n",
       "        </tr>\n",
       "    </thead>\n",
       "    <tbody>\n",
       "        <tr>\n",
       "            <td>USA</td>\n",
       "            <td>13</td>\n",
       "        </tr>\n",
       "        <tr>\n",
       "            <td>Canada</td>\n",
       "            <td>8</td>\n",
       "        </tr>\n",
       "        <tr>\n",
       "            <td>Brazil</td>\n",
       "            <td>5</td>\n",
       "        </tr>\n",
       "        <tr>\n",
       "            <td>France</td>\n",
       "            <td>5</td>\n",
       "        </tr>\n",
       "        <tr>\n",
       "            <td>Germany</td>\n",
       "            <td>4</td>\n",
       "        </tr>\n",
       "        <tr>\n",
       "            <td>United Kingdom</td>\n",
       "            <td>3</td>\n",
       "        </tr>\n",
       "        <tr>\n",
       "            <td>Czech Republic</td>\n",
       "            <td>2</td>\n",
       "        </tr>\n",
       "        <tr>\n",
       "            <td>India</td>\n",
       "            <td>2</td>\n",
       "        </tr>\n",
       "        <tr>\n",
       "            <td>Portugal</td>\n",
       "            <td>2</td>\n",
       "        </tr>\n",
       "        <tr>\n",
       "            <td>Argentina</td>\n",
       "            <td>1</td>\n",
       "        </tr>\n",
       "        <tr>\n",
       "            <td>Australia</td>\n",
       "            <td>1</td>\n",
       "        </tr>\n",
       "        <tr>\n",
       "            <td>Austria</td>\n",
       "            <td>1</td>\n",
       "        </tr>\n",
       "        <tr>\n",
       "            <td>Belgium</td>\n",
       "            <td>1</td>\n",
       "        </tr>\n",
       "        <tr>\n",
       "            <td>Chile</td>\n",
       "            <td>1</td>\n",
       "        </tr>\n",
       "        <tr>\n",
       "            <td>Denmark</td>\n",
       "            <td>1</td>\n",
       "        </tr>\n",
       "        <tr>\n",
       "            <td>Finland</td>\n",
       "            <td>1</td>\n",
       "        </tr>\n",
       "        <tr>\n",
       "            <td>Hungary</td>\n",
       "            <td>1</td>\n",
       "        </tr>\n",
       "        <tr>\n",
       "            <td>Ireland</td>\n",
       "            <td>1</td>\n",
       "        </tr>\n",
       "        <tr>\n",
       "            <td>Italy</td>\n",
       "            <td>1</td>\n",
       "        </tr>\n",
       "        <tr>\n",
       "            <td>Netherlands</td>\n",
       "            <td>1</td>\n",
       "        </tr>\n",
       "        <tr>\n",
       "            <td>Norway</td>\n",
       "            <td>1</td>\n",
       "        </tr>\n",
       "        <tr>\n",
       "            <td>Poland</td>\n",
       "            <td>1</td>\n",
       "        </tr>\n",
       "        <tr>\n",
       "            <td>Spain</td>\n",
       "            <td>1</td>\n",
       "        </tr>\n",
       "        <tr>\n",
       "            <td>Sweden</td>\n",
       "            <td>1</td>\n",
       "        </tr>\n",
       "    </tbody>\n",
       "</table>"
      ],
      "text/plain": [
       "[('USA', 13),\n",
       " ('Canada', 8),\n",
       " ('Brazil', 5),\n",
       " ('France', 5),\n",
       " ('Germany', 4),\n",
       " ('United Kingdom', 3),\n",
       " ('Czech Republic', 2),\n",
       " ('India', 2),\n",
       " ('Portugal', 2),\n",
       " ('Argentina', 1),\n",
       " ('Australia', 1),\n",
       " ('Austria', 1),\n",
       " ('Belgium', 1),\n",
       " ('Chile', 1),\n",
       " ('Denmark', 1),\n",
       " ('Finland', 1),\n",
       " ('Hungary', 1),\n",
       " ('Ireland', 1),\n",
       " ('Italy', 1),\n",
       " ('Netherlands', 1),\n",
       " ('Norway', 1),\n",
       " ('Poland', 1),\n",
       " ('Spain', 1),\n",
       " ('Sweden', 1)]"
      ]
     },
     "execution_count": 18,
     "metadata": {},
     "output_type": "execute_result"
    }
   ],
   "source": [
    "%%sql\n",
    "SELECT\n",
    "    country,\n",
    "    customer_count\n",
    "FROM\n",
    "    customer_per_country_view\n",
    "ORDER BY customer_count DESC;"
   ]
  },
  {
   "cell_type": "markdown",
   "id": "a18b461d",
   "metadata": {},
   "source": [
    "### Exercise 7\n",
    "\n",
    "Write a query that will delete the `Employee_View` view."
   ]
  },
  {
   "cell_type": "code",
   "execution_count": 20,
   "id": "ee7daac8",
   "metadata": {},
   "outputs": [
    {
     "name": "stdout",
     "output_type": "stream",
     "text": [
      " * sqlite:///chinook.db\n",
      "Done.\n"
     ]
    },
    {
     "data": {
      "text/plain": [
       "[]"
      ]
     },
     "execution_count": 20,
     "metadata": {},
     "output_type": "execute_result"
    }
   ],
   "source": [
    "%%sql\n",
    "DROP VIEW Employees_View;"
   ]
  },
  {
   "attachments": {},
   "cell_type": "markdown",
   "id": "dde873fc",
   "metadata": {},
   "source": [
    "### Challenge question\n",
    "\n",
    "Write a query that returns the number of customers that each support employee services, along with the name of the employee. Call this view `Support_Person_Stats`.\n",
    "\n",
    "To do this, we will need to create a view, join the Customer and Employee tables, and use the `COUNT` and `GROUP BY` functions to aggregate the number of employees serviced by each employee."
   ]
  },
  {
   "cell_type": "code",
   "execution_count": 27,
   "id": "57804ebf",
   "metadata": {},
   "outputs": [
    {
     "name": "stdout",
     "output_type": "stream",
     "text": [
      " * sqlite:///chinook.db\n",
      "Done.\n"
     ]
    },
    {
     "data": {
      "text/plain": [
       "[]"
      ]
     },
     "execution_count": 27,
     "metadata": {},
     "output_type": "execute_result"
    }
   ],
   "source": [
    "%%sql\n",
    "\n",
    "CREATE VIEW Support_Person_Stats AS\n",
    "SELECT e.employeeid, e.lastname, COUNT(c.SupportRepId) Count_of_Customers_Serviced \n",
    "FROM customers c \n",
    "INNER JOIN employees e\n",
    "ON c.SupportRepId = e.EmployeeId\n",
    "GROUP BY e.EmployeeId;"
   ]
  },
  {
   "cell_type": "markdown",
   "id": "b3c88335",
   "metadata": {},
   "source": [
    "## Solutions"
   ]
  },
  {
   "cell_type": "markdown",
   "id": "a5084b12",
   "metadata": {},
   "source": [
    "### Exercise 1"
   ]
  },
  {
   "cell_type": "code",
   "execution_count": null,
   "id": "c968d875",
   "metadata": {
    "scrolled": true
   },
   "outputs": [],
   "source": [
    "%%sql\n",
    "\n",
    "CREATE VIEW Employee_View AS \n",
    "SELECT LastName, FirstName, Title, Country\n",
    "FROM Employees;"
   ]
  },
  {
   "cell_type": "markdown",
   "id": "294d8eef",
   "metadata": {},
   "source": [
    "### Exercise 2"
   ]
  },
  {
   "cell_type": "code",
   "execution_count": null,
   "id": "03071e34",
   "metadata": {},
   "outputs": [],
   "source": [
    "%%sql\n",
    "\n",
    "SELECT * FROM Employee_View\n",
    "WHERE Title LIKE '%Sales%'"
   ]
  },
  {
   "cell_type": "markdown",
   "id": "eafe40b6",
   "metadata": {},
   "source": [
    "### Exercise 3"
   ]
  },
  {
   "cell_type": "code",
   "execution_count": 9,
   "id": "1ffd2239",
   "metadata": {},
   "outputs": [
    {
     "name": "stdout",
     "output_type": "stream",
     "text": [
      " * sqlite:///chinook.db\n",
      "Done.\n"
     ]
    },
    {
     "data": {
      "text/plain": [
       "[]"
      ]
     },
     "execution_count": 9,
     "metadata": {},
     "output_type": "execute_result"
    }
   ],
   "source": [
    "%%sql\n",
    "\n",
    "CREATE VIEW Customer_Support_View AS\n",
    "SELECT c.FirstName Customer_Name, c.LastName Customer_Surname, c.Country Customer_Country, c.SupportRepId, e.EmployeeId, e.LastName Employee_surname, e.FirstName Employee_first_name, e.Title Employee_job_title, e.Country Employee_Country\n",
    "FROM customers c \n",
    "INNER JOIN employees e\n",
    "ON c.SupportRepId = e.EmployeeId\n"
   ]
  },
  {
   "cell_type": "markdown",
   "id": "e9956efe",
   "metadata": {},
   "source": [
    "### Exercise 4"
   ]
  },
  {
   "cell_type": "code",
   "execution_count": null,
   "id": "cd662edc",
   "metadata": {},
   "outputs": [],
   "source": [
    "%%sql\n",
    "\n",
    "SELECT Customer_Name, Customer_Surname \n",
    "FROM Customer_Support_View\n",
    "WHERE Employeeid = 3;"
   ]
  },
  {
   "cell_type": "markdown",
   "id": "c1341a11",
   "metadata": {},
   "source": [
    "### Exercise 5"
   ]
  },
  {
   "cell_type": "code",
   "execution_count": null,
   "id": "9a0cf068",
   "metadata": {},
   "outputs": [],
   "source": [
    "%%sql\n",
    "\n",
    "CREATE VIEW Customer_per_Country_View AS \n",
    "SELECT COUNT (CustomerId) AS Num_customers, Country\n",
    "FROM customers\n",
    "GROUP BY Country;"
   ]
  },
  {
   "cell_type": "markdown",
   "id": "9372f6b4",
   "metadata": {},
   "source": [
    "### Exercise 6"
   ]
  },
  {
   "cell_type": "code",
   "execution_count": null,
   "id": "d5ac7556",
   "metadata": {},
   "outputs": [],
   "source": [
    "%%sql\n",
    "\n",
    "SELECT Country, MAX(Num_customers) \n",
    "FROM Customer_per_Country_View"
   ]
  },
  {
   "cell_type": "markdown",
   "id": "10b888fd",
   "metadata": {},
   "source": [
    "### Exercise 7"
   ]
  },
  {
   "cell_type": "code",
   "execution_count": null,
   "id": "6d8ab7fa",
   "metadata": {},
   "outputs": [],
   "source": [
    "%%sql\n",
    "\n",
    "DROP VIEW Employee_View"
   ]
  },
  {
   "cell_type": "markdown",
   "id": "a9364c60",
   "metadata": {},
   "source": [
    "### Challenge question"
   ]
  },
  {
   "cell_type": "code",
   "execution_count": null,
   "id": "74f04ced",
   "metadata": {},
   "outputs": [],
   "source": [
    "%%sql\n",
    "\n",
    "CREATE VIEW Support_Person_Stats AS\n",
    "SELECT COUNT(c.SupportRepId) Count_of_Customers_Serviced , e.EmployeeId, e.LastName\n",
    "FROM customers c \n",
    "INNER JOIN employees e\n",
    "ON c.SupportRepId = e.EmployeeId\n",
    "GROUP BY e.EmployeeId;"
   ]
  },
  {
   "attachments": {},
   "cell_type": "markdown",
   "id": "c2a7b88d",
   "metadata": {},
   "source": [
    "* Note: Because views are added to the main database after they are created, if we want to perform the `CREATE VIEW` commands again, we must first drop the prior view to prevent receiving a 'VIEW already exists' error."
   ]
  },
  {
   "cell_type": "markdown",
   "id": "6d8d9bdd",
   "metadata": {},
   "source": [
    "<div align=\"center\" style=\" font-size: 80%; text-align: center; margin: 0 auto\">\n",
    "<img src=\"https://raw.githubusercontent.com/Explore-AI/Pictures/master/ExploreAI_logos/EAI_Blue_Dark.png\"  style=\"width:200px\";/>\n",
    "</div>"
   ]
  }
 ],
 "metadata": {
  "kernelspec": {
   "display_name": "Python 3 (ipykernel)",
   "language": "python",
   "name": "python3"
  },
  "language_info": {
   "codemirror_mode": {
    "name": "ipython",
    "version": 3
   },
   "file_extension": ".py",
   "mimetype": "text/x-python",
   "name": "python",
   "nbconvert_exporter": "python",
   "pygments_lexer": "ipython3",
   "version": "3.11.1"
  }
 },
 "nbformat": 4,
 "nbformat_minor": 5
}
