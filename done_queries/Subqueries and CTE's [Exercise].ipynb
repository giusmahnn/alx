{
 "cells": [
  {
   "cell_type": "markdown",
   "id": "51b1254d",
   "metadata": {},
   "source": [
    "<div align=\"right\" style=\" font-size: 80%; text-align: center; margin: 0 auto\">\n",
    "<img src=\"https://raw.githubusercontent.com/Explore-AI/Pictures/master/ExploreAI_logos/Logo blue_dark.png\"  style=\"width:25px\" align=\"right\";/>\n",
    "</div>"
   ]
  },
  {
   "attachments": {},
   "cell_type": "markdown",
   "id": "f662d169",
   "metadata": {},
   "source": [
    "# Subqueries and CTEs\n",
    "© ExploreAI Academy"
   ]
  },
  {
   "cell_type": "markdown",
   "id": "26af890c",
   "metadata": {},
   "source": [
    "In this exercise, we will apply subqueries and CTEs in different parts of a query and for different use cases. Ensure that you have downloaded the database file, Northwind.db."
   ]
  },
  {
   "cell_type": "markdown",
   "id": "2d230d14",
   "metadata": {},
   "source": [
    "## Learning objectives\n",
    "\n",
    "By the end of this train, you should:\n",
    "- Know how to use CTEs to simplify subqueries.\n",
    "- Understand when to use subqueries and when to use CTEs by comparing their performance and readability."
   ]
  },
  {
   "cell_type": "markdown",
   "id": "7fd5e3b8",
   "metadata": {},
   "source": [
    "First, let's load our sample database:"
   ]
  },
  {
   "cell_type": "code",
   "execution_count": 2,
   "id": "2d0d820e",
   "metadata": {},
   "outputs": [],
   "source": [
    "# Load and activate the SQL extension to allow us to execute SQL in a Jupyter notebook.\n",
    "%load_ext sql\n"
   ]
  },
  {
   "cell_type": "code",
   "execution_count": 3,
   "id": "599e3c6c",
   "metadata": {},
   "outputs": [],
   "source": [
    "# Load the Northwind database stored in your local machine. \n",
    "# Make sure the file is saved in the same folder as this notebook.\n",
    "%sql sqlite:///Northwind.db\n",
    "    "
   ]
  },
  {
   "cell_type": "markdown",
   "id": "06af8b46",
   "metadata": {},
   "source": [
    "Here is a view of all of our tables in the database:"
   ]
  },
  {
   "cell_type": "markdown",
   "id": "6ed1f036",
   "metadata": {},
   "source": [
    "<div align=\"center\" style=\" font-size: 90%; text-align: center; margin: 0 auto\">\n",
    "<img src=\"https://raw.githubusercontent.com/Explore-AI/Pictures/master/Northwind_ERD.png\"  style=\"width:900px\";/>\n",
    "<br>\n",
    "<br>\n",
    "    <em>Figure 1: Northwind ERD</em>\n",
    "</div>"
   ]
  },
  {
   "cell_type": "markdown",
   "id": "920e89d2",
   "metadata": {},
   "source": [
    "## Exercise\n",
    "\n",
    "Run the necessary queries that will provide us with the following information. Compare your queries with the solutions at the end of this notebook."
   ]
  },
  {
   "cell_type": "markdown",
   "id": "466e53c1",
   "metadata": {},
   "source": [
    "### Exercise 1\n",
    "\n",
    "Retrieve product details from products that have been ordered by customers from the UK."
   ]
  },
  {
   "cell_type": "code",
   "execution_count": 7,
   "id": "038f28ea",
   "metadata": {},
   "outputs": [
    {
     "name": "stdout",
     "output_type": "stream",
     "text": [
      " * sqlite:///Northwind.db\n",
      "Done.\n"
     ]
    },
    {
     "data": {
      "text/html": [
       "<table>\n",
       "    <thead>\n",
       "        <tr>\n",
       "            <th>ProductID</th>\n",
       "            <th>ProductName</th>\n",
       "            <th>UnitPrice</th>\n",
       "            <th>OrderID</th>\n",
       "            <th>CustomerID</th>\n",
       "            <th>Country</th>\n",
       "        </tr>\n",
       "    </thead>\n",
       "    <tbody>\n",
       "        <tr>\n",
       "            <td>3</td>\n",
       "            <td>Aniseed Syrup</td>\n",
       "            <td>10</td>\n",
       "            <td>10289</td>\n",
       "            <td>BSBEV</td>\n",
       "            <td>UK</td>\n",
       "        </tr>\n",
       "        <tr>\n",
       "            <td>64</td>\n",
       "            <td>Wimmers gute Semmelkndel</td>\n",
       "            <td>33.25</td>\n",
       "            <td>10289</td>\n",
       "            <td>BSBEV</td>\n",
       "            <td>UK</td>\n",
       "        </tr>\n",
       "        <tr>\n",
       "            <td>34</td>\n",
       "            <td>Sasquatch Ale</td>\n",
       "            <td>14</td>\n",
       "            <td>10315</td>\n",
       "            <td>ISLAT</td>\n",
       "            <td>UK</td>\n",
       "        </tr>\n",
       "        <tr>\n",
       "            <td>70</td>\n",
       "            <td>Outback Lager</td>\n",
       "            <td>15</td>\n",
       "            <td>10315</td>\n",
       "            <td>ISLAT</td>\n",
       "            <td>UK</td>\n",
       "        </tr>\n",
       "        <tr>\n",
       "            <td>41</td>\n",
       "            <td>Jack&#x27;s New England Clam Chowder</td>\n",
       "            <td>9.65</td>\n",
       "            <td>10318</td>\n",
       "            <td>ISLAT</td>\n",
       "            <td>UK</td>\n",
       "        </tr>\n",
       "        <tr>\n",
       "            <td>76</td>\n",
       "            <td>Lakkalikri</td>\n",
       "            <td>18</td>\n",
       "            <td>10318</td>\n",
       "            <td>ISLAT</td>\n",
       "            <td>UK</td>\n",
       "        </tr>\n",
       "        <tr>\n",
       "            <td>35</td>\n",
       "            <td>Steeleye Stout</td>\n",
       "            <td>18</td>\n",
       "            <td>10321</td>\n",
       "            <td>ISLAT</td>\n",
       "            <td>UK</td>\n",
       "        </tr>\n",
       "        <tr>\n",
       "            <td>24</td>\n",
       "            <td>Guaran Fantstica</td>\n",
       "            <td>4.5</td>\n",
       "            <td>10355</td>\n",
       "            <td>AROUT</td>\n",
       "            <td>UK</td>\n",
       "        </tr>\n",
       "        <tr>\n",
       "            <td>57</td>\n",
       "            <td>Ravioli Angelo</td>\n",
       "            <td>19.5</td>\n",
       "            <td>10355</td>\n",
       "            <td>AROUT</td>\n",
       "            <td>UK</td>\n",
       "        </tr>\n",
       "        <tr>\n",
       "            <td>16</td>\n",
       "            <td>Pavlova</td>\n",
       "            <td>17.45</td>\n",
       "            <td>10359</td>\n",
       "            <td>SEVES</td>\n",
       "            <td>UK</td>\n",
       "        </tr>\n",
       "    </tbody>\n",
       "</table>"
      ],
      "text/plain": [
       "[(3, 'Aniseed Syrup', 10, 10289, 'BSBEV', 'UK'),\n",
       " (64, 'Wimmers gute Semmelkndel', 33.25, 10289, 'BSBEV', 'UK'),\n",
       " (34, 'Sasquatch Ale', 14, 10315, 'ISLAT', 'UK'),\n",
       " (70, 'Outback Lager', 15, 10315, 'ISLAT', 'UK'),\n",
       " (41, \"Jack's New England Clam Chowder\", 9.65, 10318, 'ISLAT', 'UK'),\n",
       " (76, 'Lakkalikri', 18, 10318, 'ISLAT', 'UK'),\n",
       " (35, 'Steeleye Stout', 18, 10321, 'ISLAT', 'UK'),\n",
       " (24, 'Guaran Fantstica', 4.5, 10355, 'AROUT', 'UK'),\n",
       " (57, 'Ravioli Angelo', 19.5, 10355, 'AROUT', 'UK'),\n",
       " (16, 'Pavlova', 17.45, 10359, 'SEVES', 'UK')]"
      ]
     },
     "execution_count": 7,
     "metadata": {},
     "output_type": "execute_result"
    }
   ],
   "source": [
    "%%sql\n",
    "SELECT\n",
    "    p.productid,\n",
    "    p.productname,\n",
    "    p.unitprice, \n",
    "    o.orderid, \n",
    "    c.customerid, \n",
    "    c.country\n",
    "FROM \n",
    "    products p\n",
    "JOIN \n",
    "    orderdetails od \n",
    "ON \n",
    "    p.productid = od.productid\n",
    "JOIN \n",
    "    orders o \n",
    "ON \n",
    "    od.orderid = o.orderid\n",
    "JOIN \n",
    "    customers c \n",
    "ON \n",
    "    o.customerid = c.customerid\n",
    "WHERE c.country = 'UK'\n",
    "LIMIT 10;"
   ]
  },
  {
   "cell_type": "markdown",
   "id": "86802726",
   "metadata": {},
   "source": [
    "### Exercise 2\n",
    "\n",
    "\n",
    "Find out the names of customers who have ordered products of more than the average order value."
   ]
  },
  {
   "cell_type": "code",
   "execution_count": 21,
   "id": "91f3421f",
   "metadata": {},
   "outputs": [
    {
     "name": "stdout",
     "output_type": "stream",
     "text": [
      " * sqlite:///Northwind.db\n",
      "Done.\n"
     ]
    },
    {
     "data": {
      "text/html": [
       "<table>\n",
       "    <thead>\n",
       "        <tr>\n",
       "            <th>CompanyName</th>\n",
       "        </tr>\n",
       "    </thead>\n",
       "    <tbody>\n",
       "        <tr>\n",
       "            <td>Toms Spezialitten</td>\n",
       "        </tr>\n",
       "        <tr>\n",
       "            <td>Hanari Carnes</td>\n",
       "        </tr>\n",
       "        <tr>\n",
       "            <td>Suprmes dlices</td>\n",
       "        </tr>\n",
       "        <tr>\n",
       "            <td>Richter Supermarkt</td>\n",
       "        </tr>\n",
       "        <tr>\n",
       "            <td>HILARION-Abastos</td>\n",
       "        </tr>\n",
       "        <tr>\n",
       "            <td>Ernst Handel</td>\n",
       "        </tr>\n",
       "        <tr>\n",
       "            <td>Ottilies Kseladen</td>\n",
       "        </tr>\n",
       "        <tr>\n",
       "            <td>Blondesddsl pre et fils</td>\n",
       "        </tr>\n",
       "        <tr>\n",
       "            <td>Frankenversand</td>\n",
       "        </tr>\n",
       "        <tr>\n",
       "            <td>GROSELLA-Restaurante</td>\n",
       "        </tr>\n",
       "    </tbody>\n",
       "</table>"
      ],
      "text/plain": [
       "[('Toms Spezialitten',),\n",
       " ('Hanari Carnes',),\n",
       " ('Suprmes dlices',),\n",
       " ('Richter Supermarkt',),\n",
       " ('HILARION-Abastos',),\n",
       " ('Ernst Handel',),\n",
       " ('Ottilies Kseladen',),\n",
       " ('Blondesddsl pre et fils',),\n",
       " ('Frankenversand',),\n",
       " ('GROSELLA-Restaurante',)]"
      ]
     },
     "execution_count": 21,
     "metadata": {},
     "output_type": "execute_result"
    }
   ],
   "source": [
    "%%sql\n",
    "WITH avg_order AS (\n",
    "    SELECT AVG(orderdetails.unitprice * orderdetails.quantity) AS avg_value\n",
    "    FROM orderdetails\n",
    ")\n",
    "SELECT DISTINCT c.companyname\n",
    "FROM customers AS c\n",
    "JOIN orders AS o ON c.customerid = o.customerid\n",
    "JOIN orderdetails ON o.orderid = orderdetails.orderid\n",
    "WHERE (orderdetails.UnitPrice * orderdetails.Quantity) > (SELECT avg_value FROM avg_order)\n",
    "LIMIT 10;\n"
   ]
  },
  {
   "cell_type": "markdown",
   "id": "f0fade51",
   "metadata": {},
   "source": [
    "### Exercise 3\n",
    "\n",
    "\n",
    "Write a CTE to find the most ordered product by each customer."
   ]
  },
  {
   "cell_type": "code",
   "execution_count": 26,
   "id": "748f4263",
   "metadata": {},
   "outputs": [
    {
     "name": "stdout",
     "output_type": "stream",
     "text": [
      " * sqlite:///Northwind.db\n",
      "Done.\n"
     ]
    },
    {
     "data": {
      "text/html": [
       "<table>\n",
       "    <thead>\n",
       "        <tr>\n",
       "            <th>contactname</th>\n",
       "            <th>total_quantity</th>\n",
       "        </tr>\n",
       "    </thead>\n",
       "    <tbody>\n",
       "        <tr>\n",
       "            <td>Jose Pavarotti</td>\n",
       "            <td>4958</td>\n",
       "        </tr>\n",
       "        <tr>\n",
       "            <td>Roland Mendel</td>\n",
       "            <td>4543</td>\n",
       "        </tr>\n",
       "        <tr>\n",
       "            <td>Horst Kloss</td>\n",
       "            <td>3961</td>\n",
       "        </tr>\n",
       "        <tr>\n",
       "            <td>Patricia McKenna</td>\n",
       "            <td>1684</td>\n",
       "        </tr>\n",
       "        <tr>\n",
       "            <td>Peter Franken</td>\n",
       "            <td>1525</td>\n",
       "        </tr>\n",
       "        <tr>\n",
       "            <td>Paula Wilson</td>\n",
       "            <td>1383</td>\n",
       "        </tr>\n",
       "        <tr>\n",
       "            <td>Maria Larsson</td>\n",
       "            <td>1234</td>\n",
       "        </tr>\n",
       "        <tr>\n",
       "            <td>Carlos Hernndez</td>\n",
       "            <td>1096</td>\n",
       "        </tr>\n",
       "        <tr>\n",
       "            <td>Pascale Cartrain</td>\n",
       "            <td>1072</td>\n",
       "        </tr>\n",
       "        <tr>\n",
       "            <td>Karl Jablonski</td>\n",
       "            <td>1063</td>\n",
       "        </tr>\n",
       "    </tbody>\n",
       "</table>"
      ],
      "text/plain": [
       "[('Jose Pavarotti', 4958),\n",
       " ('Roland Mendel', 4543),\n",
       " ('Horst Kloss', 3961),\n",
       " ('Patricia McKenna', 1684),\n",
       " ('Peter Franken', 1525),\n",
       " ('Paula Wilson', 1383),\n",
       " ('Maria Larsson', 1234),\n",
       " ('Carlos Hernndez', 1096),\n",
       " ('Pascale Cartrain', 1072),\n",
       " ('Karl Jablonski', 1063)]"
      ]
     },
     "execution_count": 26,
     "metadata": {},
     "output_type": "execute_result"
    }
   ],
   "source": [
    "%%sql\n",
    "WITH customer_total_quantity AS (\n",
    "    SELECT c.contactname, SUM(od.quantity) AS total_quantity\n",
    "    FROM customers AS c\n",
    "    JOIN orders AS o ON c.customerid = o.customerid\n",
    "    JOIN orderdetails AS od ON o.orderid = od.orderid\n",
    "    GROUP BY c.contactname\n",
    ")\n",
    "SELECT contactname, total_quantity\n",
    "FROM customer_total_quantity\n",
    "ORDER BY total_quantity DESC\n",
    "LIMIT 10;\n"
   ]
  },
  {
   "cell_type": "markdown",
   "id": "f28aef00",
   "metadata": {},
   "source": [
    "### Exercise 4\n",
    "\n",
    "Using a CTE, list employees who have more than the average number of reports."
   ]
  },
  {
   "cell_type": "code",
   "execution_count": 30,
   "id": "f4621a53",
   "metadata": {},
   "outputs": [
    {
     "name": "stdout",
     "output_type": "stream",
     "text": [
      " * sqlite:///Northwind.db\n",
      "Done.\n"
     ]
    },
    {
     "data": {
      "text/html": [
       "<table>\n",
       "    <thead>\n",
       "        <tr>\n",
       "            <th>EmployeeID</th>\n",
       "            <th>LastName</th>\n",
       "            <th>FirstName</th>\n",
       "            <th>Title</th>\n",
       "            <th>TitleOfCourtesy</th>\n",
       "            <th>BirthDate</th>\n",
       "            <th>HireDate</th>\n",
       "            <th>Address</th>\n",
       "            <th>City</th>\n",
       "            <th>Region</th>\n",
       "            <th>PostalCode</th>\n",
       "            <th>Country</th>\n",
       "            <th>HomePhone</th>\n",
       "            <th>Extension</th>\n",
       "            <th>Notes</th>\n",
       "            <th>ReportsTo</th>\n",
       "            <th>PhotoPath</th>\n",
       "            <th>Salary</th>\n",
       "        </tr>\n",
       "    </thead>\n",
       "    <tbody>\n",
       "        <tr>\n",
       "            <td>2</td>\n",
       "            <td>Fuller</td>\n",
       "            <td>Andrew</td>\n",
       "            <td>Vice President, Sales</td>\n",
       "            <td>Dr.</td>\n",
       "            <td>1952-02-19 00:00:00</td>\n",
       "            <td>1992-08-14 00:00:00</td>\n",
       "            <td>908 W. Capital Way</td>\n",
       "            <td>Tacoma</td>\n",
       "            <td>WA</td>\n",
       "            <td>98401</td>\n",
       "            <td>USA</td>\n",
       "            <td>(206) 555-9482</td>\n",
       "            <td>3457</td>\n",
       "            <td>Andrew received his BTS commercial in 1974 and a Ph.D. in international marketing from the University of Dallas in 1981.  He is fluent in French and Italian and reads German.  He joined the company as a sales representative, was promoted to sales manager in January 1992 and to vice president of sales in March 1993.  Andrew is a member of the Sales Management Roundtable, the Seattle Chamber of Commerce, and the Pacific Rim Importers Association.</td>\n",
       "            <td>None</td>\n",
       "            <td>http://accweb/emmployees/fuller.bmp</td>\n",
       "            <td>2254.49</td>\n",
       "        </tr>\n",
       "    </tbody>\n",
       "</table>"
      ],
      "text/plain": [
       "[(2, 'Fuller', 'Andrew', 'Vice President, Sales', 'Dr.', '1952-02-19 00:00:00', '1992-08-14 00:00:00', '908 W. Capital Way', 'Tacoma', 'WA', '98401', 'USA', '(206) 555-9482', '3457', 'Andrew received his BTS commercial in 1974 and a Ph.D. in international marketing from the University of Dallas in 1981.  He is fluent in French and  ... (150 characters truncated) ... es in March 1993.  Andrew is a member of the Sales Management Roundtable, the Seattle Chamber of Commerce, and the Pacific Rim Importers Association.', None, 'http://accweb/emmployees/fuller.bmp', 2254.49)]"
      ]
     },
     "execution_count": 30,
     "metadata": {},
     "output_type": "execute_result"
    }
   ],
   "source": [
    "%%sql\n",
    "\n",
    "WITH avg_reports AS (\n",
    "    SELECT AVG(report_count) AS average_count\n",
    "    FROM (\n",
    "        SELECT COUNT(*) AS report_count\n",
    "        FROM employees\n",
    "        JOIN employees AS reports ON employees.EmployeeID = reports.ReportsTo\n",
    "        GROUP BY employees.EmployeeID\n",
    "    ) AS report_counts\n",
    ")\n",
    "SELECT employees.*\n",
    "FROM employees\n",
    "JOIN employees AS reports ON employees.EmployeeID = reports.ReportsTo\n",
    "GROUP BY employees.EmployeeID\n",
    "HAVING COUNT(*) > (SELECT average_count FROM avg_reports);"
   ]
  },
  {
   "cell_type": "markdown",
   "id": "b3c88335",
   "metadata": {},
   "source": [
    "## Solutions"
   ]
  },
  {
   "cell_type": "markdown",
   "id": "a5084b12",
   "metadata": {},
   "source": [
    "### Exercise 1"
   ]
  },
  {
   "cell_type": "markdown",
   "id": "a7c42199",
   "metadata": {},
   "source": [
    "SQL solution with a subquery:"
   ]
  },
  {
   "cell_type": "code",
   "execution_count": null,
   "id": "c968d875",
   "metadata": {
    "scrolled": true
   },
   "outputs": [],
   "source": [
    "%%sql\n",
    "\n",
    "SELECT customers.*\n",
    "FROM customers\n",
    "WHERE customers.CustomerID IN (\n",
    "    SELECT orders.CustomerID\n",
    "    FROM orders\n",
    "    GROUP BY orders.CustomerID\n",
    "    ORDER BY COUNT(*) DESC\n",
    "    LIMIT 1\n",
    ");"
   ]
  },
  {
   "cell_type": "markdown",
   "id": "783fcd52",
   "metadata": {},
   "source": [
    "SQL solution with a CTE:"
   ]
  },
  {
   "cell_type": "code",
   "execution_count": 5,
   "id": "4ab68a44",
   "metadata": {},
   "outputs": [
    {
     "name": "stdout",
     "output_type": "stream",
     "text": [
      " * sqlite:///Northwind.db\n",
      "Done.\n"
     ]
    },
    {
     "data": {
      "text/html": [
       "<table>\n",
       "    <thead>\n",
       "        <tr>\n",
       "            <th>CustomerID</th>\n",
       "            <th>CompanyName</th>\n",
       "            <th>ContactName</th>\n",
       "            <th>ContactTitle</th>\n",
       "            <th>Address</th>\n",
       "            <th>City</th>\n",
       "            <th>Region</th>\n",
       "            <th>PostalCode</th>\n",
       "            <th>Country</th>\n",
       "            <th>Phone</th>\n",
       "            <th>Fax</th>\n",
       "        </tr>\n",
       "    </thead>\n",
       "    <tbody>\n",
       "        <tr>\n",
       "            <td>SAVEA</td>\n",
       "            <td>Save-a-lot Markets</td>\n",
       "            <td>Jose Pavarotti</td>\n",
       "            <td>Sales Representative</td>\n",
       "            <td>187 Suffolk Ln.</td>\n",
       "            <td>Boise</td>\n",
       "            <td>ID</td>\n",
       "            <td>83720</td>\n",
       "            <td>USA</td>\n",
       "            <td>(208) 555-8097</td>\n",
       "            <td>None</td>\n",
       "        </tr>\n",
       "    </tbody>\n",
       "</table>"
      ],
      "text/plain": [
       "[('SAVEA', 'Save-a-lot Markets', 'Jose Pavarotti', 'Sales Representative', '187 Suffolk Ln.', 'Boise', 'ID', '83720', 'USA', '(208) 555-8097', None)]"
      ]
     },
     "execution_count": 5,
     "metadata": {},
     "output_type": "execute_result"
    }
   ],
   "source": [
    "%%sql\n",
    "\n",
    "WITH most_orders AS (\n",
    "    SELECT orders.CustomerID\n",
    "    FROM orders\n",
    "    GROUP BY orders.CustomerID\n",
    "    ORDER BY COUNT(*) DESC\n",
    "    LIMIT 1\n",
    ")\n",
    "SELECT customers.*\n",
    "FROM customers\n",
    "JOIN most_orders\n",
    "ON customers.CustomerID = most_orders.CustomerID;"
   ]
  },
  {
   "cell_type": "markdown",
   "id": "c17e4388",
   "metadata": {},
   "source": [
    "Both solutions will return the customer with the most orders. The subquery solution nests the logic inside the main query, which can become difficult to read for more complex queries. The CTE solution separates the logic into a different part of the query, which can be more readable, especially for more complex queries."
   ]
  },
  {
   "cell_type": "markdown",
   "id": "294d8eef",
   "metadata": {},
   "source": [
    "### Exercise 2"
   ]
  },
  {
   "cell_type": "code",
   "execution_count": null,
   "id": "03071e34",
   "metadata": {},
   "outputs": [],
   "source": [
    "%%sql\n",
    "\n",
    "WITH avg_order_value AS (\n",
    "    SELECT AVG(OrderDetails.UnitPrice * OrderDetails.Quantity) AS average_value\n",
    "    FROM OrderDetails\n",
    ")\n",
    "SELECT DISTINCT customers.CompanyName\n",
    "FROM customers\n",
    "JOIN orders ON customers.CustomerID = orders.CustomerID\n",
    "JOIN OrderDetails ON orders.OrderID = OrderDetails.OrderID\n",
    "WHERE (OrderDetails.UnitPrice * OrderDetails.Quantity) > (SELECT average_value FROM avg_order_value);\n"
   ]
  },
  {
   "cell_type": "markdown",
   "id": "eafe40b6",
   "metadata": {},
   "source": [
    "### Exercise 3"
   ]
  },
  {
   "cell_type": "code",
   "execution_count": null,
   "id": "1ffd2239",
   "metadata": {},
   "outputs": [],
   "source": [
    "%%sql\n",
    "\n",
    "WITH most_ordered_products AS (\n",
    "    SELECT customers.CustomerID, OrderDetails.ProductID, COUNT(*) AS order_count\n",
    "    FROM customers\n",
    "    JOIN orders ON customers.CustomerID = orders.CustomerID\n",
    "    JOIN OrderDetails ON orders.OrderID = OrderDetails.OrderID\n",
    "    GROUP BY customers.CustomerID, OrderDetails.ProductID\n",
    ")\n",
    "SELECT customers.CompanyName, products.ProductName, max_order_count\n",
    "FROM (\n",
    "    SELECT CustomerID, MAX(order_count) AS max_order_count\n",
    "    FROM most_ordered_products\n",
    "    GROUP BY CustomerID\n",
    ") AS max_order_count\n",
    "JOIN most_ordered_products ON max_order_count.CustomerID = most_ordered_products.CustomerID AND max_order_count.max_order_count = most_ordered_products.order_count\n",
    "JOIN customers ON most_ordered_products.CustomerID = customers.CustomerID\n",
    "JOIN products ON most_ordered_products.ProductID = products.ProductID;\n"
   ]
  },
  {
   "cell_type": "markdown",
   "id": "e9956efe",
   "metadata": {},
   "source": [
    "### Exercise 4"
   ]
  },
  {
   "cell_type": "code",
   "execution_count": 31,
   "id": "cd662edc",
   "metadata": {},
   "outputs": [
    {
     "name": "stdout",
     "output_type": "stream",
     "text": [
      " * sqlite:///Northwind.db\n",
      "Done.\n"
     ]
    },
    {
     "data": {
      "text/html": [
       "<table>\n",
       "    <thead>\n",
       "        <tr>\n",
       "            <th>EmployeeID</th>\n",
       "            <th>LastName</th>\n",
       "            <th>FirstName</th>\n",
       "            <th>Title</th>\n",
       "            <th>TitleOfCourtesy</th>\n",
       "            <th>BirthDate</th>\n",
       "            <th>HireDate</th>\n",
       "            <th>Address</th>\n",
       "            <th>City</th>\n",
       "            <th>Region</th>\n",
       "            <th>PostalCode</th>\n",
       "            <th>Country</th>\n",
       "            <th>HomePhone</th>\n",
       "            <th>Extension</th>\n",
       "            <th>Notes</th>\n",
       "            <th>ReportsTo</th>\n",
       "            <th>PhotoPath</th>\n",
       "            <th>Salary</th>\n",
       "        </tr>\n",
       "    </thead>\n",
       "    <tbody>\n",
       "        <tr>\n",
       "            <td>2</td>\n",
       "            <td>Fuller</td>\n",
       "            <td>Andrew</td>\n",
       "            <td>Vice President, Sales</td>\n",
       "            <td>Dr.</td>\n",
       "            <td>1952-02-19 00:00:00</td>\n",
       "            <td>1992-08-14 00:00:00</td>\n",
       "            <td>908 W. Capital Way</td>\n",
       "            <td>Tacoma</td>\n",
       "            <td>WA</td>\n",
       "            <td>98401</td>\n",
       "            <td>USA</td>\n",
       "            <td>(206) 555-9482</td>\n",
       "            <td>3457</td>\n",
       "            <td>Andrew received his BTS commercial in 1974 and a Ph.D. in international marketing from the University of Dallas in 1981.  He is fluent in French and Italian and reads German.  He joined the company as a sales representative, was promoted to sales manager in January 1992 and to vice president of sales in March 1993.  Andrew is a member of the Sales Management Roundtable, the Seattle Chamber of Commerce, and the Pacific Rim Importers Association.</td>\n",
       "            <td>None</td>\n",
       "            <td>http://accweb/emmployees/fuller.bmp</td>\n",
       "            <td>2254.49</td>\n",
       "        </tr>\n",
       "    </tbody>\n",
       "</table>"
      ],
      "text/plain": [
       "[(2, 'Fuller', 'Andrew', 'Vice President, Sales', 'Dr.', '1952-02-19 00:00:00', '1992-08-14 00:00:00', '908 W. Capital Way', 'Tacoma', 'WA', '98401', 'USA', '(206) 555-9482', '3457', 'Andrew received his BTS commercial in 1974 and a Ph.D. in international marketing from the University of Dallas in 1981.  He is fluent in French and  ... (150 characters truncated) ... es in March 1993.  Andrew is a member of the Sales Management Roundtable, the Seattle Chamber of Commerce, and the Pacific Rim Importers Association.', None, 'http://accweb/emmployees/fuller.bmp', 2254.49)]"
      ]
     },
     "execution_count": 31,
     "metadata": {},
     "output_type": "execute_result"
    }
   ],
   "source": [
    "%%sql\n",
    "\n",
    "WITH avg_reports AS (\n",
    "    SELECT AVG(report_count) AS average_count\n",
    "    FROM (\n",
    "        SELECT COUNT(*) AS report_count\n",
    "        FROM employees\n",
    "        JOIN employees AS reports ON employees.EmployeeID = reports.ReportsTo\n",
    "        GROUP BY employees.EmployeeID\n",
    "    ) AS report_counts\n",
    ")\n",
    "SELECT employees.*\n",
    "FROM employees\n",
    "JOIN employees AS reports ON employees.EmployeeID = reports.ReportsTo\n",
    "GROUP BY employees.EmployeeID\n",
    "HAVING COUNT(*) > (SELECT average_count FROM avg_reports);"
   ]
  },
  {
   "cell_type": "markdown",
   "id": "6d8d9bdd",
   "metadata": {},
   "source": [
    "<div align=\"center\" style=\" font-size: 80%; text-align: center; margin: 0 auto\">\n",
    "<img src=\"https://raw.githubusercontent.com/Explore-AI/Pictures/master/ExploreAI_logos/EAI_Blue_Dark.png\"  style=\"width:200px\";/>\n",
    "</div>"
   ]
  }
 ],
 "metadata": {
  "kernelspec": {
   "display_name": "Python 3 (ipykernel)",
   "language": "python",
   "name": "python3"
  },
  "language_info": {
   "codemirror_mode": {
    "name": "ipython",
    "version": 3
   },
   "file_extension": ".py",
   "mimetype": "text/x-python",
   "name": "python",
   "nbconvert_exporter": "python",
   "pygments_lexer": "ipython3",
   "version": "3.11.1"
  }
 },
 "nbformat": 4,
 "nbformat_minor": 5
}
